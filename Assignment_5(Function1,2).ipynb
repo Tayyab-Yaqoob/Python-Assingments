{
 "cells": [
  {
   "cell_type": "markdown",
   "id": "0dd0605e-c049-484b-9267-7cb3ee0cf78f",
   "metadata": {
    "jp-MarkdownHeadingCollapsed": true
   },
   "source": [
    "# Function Assingment 1"
   ]
  },
  {
   "cell_type": "markdown",
   "id": "579cb7ab-6d5d-4d7a-8de1-9c7d5499dba5",
   "metadata": {},
   "source": [
    "1. write a Python function to find the maximum of three numbers."
   ]
  },
  {
   "cell_type": "code",
   "execution_count": 1,
   "id": "828ccf5f-9ac7-4714-a6d1-1b11b6609b61",
   "metadata": {},
   "outputs": [],
   "source": [
    "def maximum(a,b,c):\n",
    "    if a > b and a > c:\n",
    "        greater = a\n",
    "    elif b > a and b > c:\n",
    "        greater = b\n",
    "    elif c > a and c > b:\n",
    "        greater = c\n",
    "    else:\n",
    "       greater = 'Numbers are equal'\n",
    "    return greater"
   ]
  },
  {
   "cell_type": "code",
   "execution_count": 3,
   "id": "33f08ecf-c7a1-4394-8e0a-713468269140",
   "metadata": {},
   "outputs": [
    {
     "name": "stdout",
     "output_type": "stream",
     "text": [
      "2\n"
     ]
    }
   ],
   "source": [
    "print(maximum(2,1,1))"
   ]
  },
  {
   "cell_type": "markdown",
   "id": "09d7bbed-72b0-4d8a-bc1f-ac2847f7d785",
   "metadata": {},
   "source": [
    "2. Write a Python function to sum all the numbers in a list.\n",
    "\n",
    "    Sample List : (8, 2, 3, 0, 7)\n",
    "\n",
    "    Expected Output : 20"
   ]
  },
  {
   "cell_type": "code",
   "execution_count": 6,
   "id": "8372c5ea-067c-4d9d-bed8-4b8d9e2ac9d7",
   "metadata": {},
   "outputs": [],
   "source": [
    "def add(a):\n",
    "    addition = 0\n",
    "    for i in a:\n",
    "        addition += i\n",
    "    return addition"
   ]
  },
  {
   "cell_type": "code",
   "execution_count": 8,
   "id": "ac80f686-77f5-4e30-a518-63c2bc1ec267",
   "metadata": {},
   "outputs": [
    {
     "name": "stdout",
     "output_type": "stream",
     "text": [
      "20\n"
     ]
    }
   ],
   "source": [
    "lst = [8,2,3,0,7]\n",
    "\n",
    "print(add(lst))"
   ]
  },
  {
   "cell_type": "markdown",
   "id": "a16882e0-9301-4a91-a249-09b709633ee6",
   "metadata": {},
   "source": [
    "3. Write a Python function to multiply all the numbers in a list.\n",
    "\n",
    "    Sample List : (8, 2, 3, -1, 7)\n",
    "\n",
    "    Expected Output : -336"
   ]
  },
  {
   "cell_type": "code",
   "execution_count": 13,
   "id": "fb558a1b-f730-4294-9d3e-7c483cf542c4",
   "metadata": {},
   "outputs": [],
   "source": [
    "def multiply(a):\n",
    "    multi = 1\n",
    "    for i in a:\n",
    "        multi = multi * i\n",
    "    return multi"
   ]
  },
  {
   "cell_type": "code",
   "execution_count": 15,
   "id": "df240c21-3a8b-4fae-8548-7311b092ecbf",
   "metadata": {},
   "outputs": [
    {
     "name": "stdout",
     "output_type": "stream",
     "text": [
      "-336\n"
     ]
    }
   ],
   "source": [
    "lst1 = [8, 2, 3, -1, 7] \n",
    "\n",
    "print(multiply(lst1))"
   ]
  },
  {
   "cell_type": "markdown",
   "id": "54bc9f41-2f9e-4a09-98cf-e3fd9af89f42",
   "metadata": {},
   "source": [
    "4. Write a Python program to reverse a string.\n",
    "    \n",
    "    Sample String : \"1234abcd\"\n",
    "   \n",
    "    Expected Output : \"dcba4321\""
   ]
  },
  {
   "cell_type": "code",
   "execution_count": 18,
   "id": "4ce6481d-965c-4250-8946-1296f1b5cd95",
   "metadata": {},
   "outputs": [],
   "source": [
    "def reverseStr(a):\n",
    "    new = a[len(a)::-1]\n",
    "    return new"
   ]
  },
  {
   "cell_type": "code",
   "execution_count": 20,
   "id": "107a0bfb-f492-4755-87c5-c1dd0b272140",
   "metadata": {},
   "outputs": [
    {
     "name": "stdout",
     "output_type": "stream",
     "text": [
      "dcba4321\n"
     ]
    }
   ],
   "source": [
    "print(reverseStr('1234abcd'))"
   ]
  },
  {
   "cell_type": "markdown",
   "id": "e8dd1f5a-68cc-4ba2-b18f-a72a1fd7d0f4",
   "metadata": {},
   "source": [
    "5. Write a Python function to calculate the factorial of a number (a non-negative\n",
    "integer). The function accepts the number as an argument."
   ]
  },
  {
   "cell_type": "code",
   "execution_count": 23,
   "id": "4cba9212-34a8-4a04-b632-6d4c6946f20a",
   "metadata": {},
   "outputs": [],
   "source": [
    "def factorial(a):\n",
    "    fact = 1\n",
    "    for i in range(1,a+1):\n",
    "        fact *= i\n",
    "    return fact"
   ]
  },
  {
   "cell_type": "code",
   "execution_count": 25,
   "id": "677590b2-9e97-444a-b02e-ea3379dafde3",
   "metadata": {},
   "outputs": [
    {
     "name": "stdout",
     "output_type": "stream",
     "text": [
      "720\n"
     ]
    }
   ],
   "source": [
    "print(factorial(6))"
   ]
  },
  {
   "cell_type": "markdown",
   "id": "4eb542ab-be67-40cb-99fe-237122d9e978",
   "metadata": {},
   "source": [
    "6. Write a Python function to check whether a number falls within a given range."
   ]
  },
  {
   "cell_type": "code",
   "execution_count": 28,
   "id": "3df7f2d2-8e3e-444a-93b0-8ed42f8286a5",
   "metadata": {},
   "outputs": [],
   "source": [
    "def is_in_range(number, start, end):\n",
    "    return start <= number <= end"
   ]
  },
  {
   "cell_type": "code",
   "execution_count": 30,
   "id": "5ca4c08c-2713-4e9f-b8cd-4554680c8af5",
   "metadata": {},
   "outputs": [
    {
     "name": "stdout",
     "output_type": "stream",
     "text": [
      "16 is NOT within the range [5, 15].\n"
     ]
    }
   ],
   "source": [
    "number = 16\n",
    "range_start = 5\n",
    "range_end = 15\n",
    "\n",
    "if is_in_range(number, range_start, range_end):\n",
    "    print(f\"{number} is within the range [{range_start}, {range_end}].\")\n",
    "else:\n",
    "    print(f\"{number} is NOT within the range [{range_start}, {range_end}].\")\n"
   ]
  },
  {
   "cell_type": "markdown",
   "id": "64f16c9c-09be-4340-a1ce-02cba732204a",
   "metadata": {},
   "source": [
    "7. Write a Python function that accepts a string and counts the number of upper\n",
    "and lower case letters.\n",
    "\n",
    "    Sample String : 'The quick Brow Fox'\n",
    "\n",
    "    Expected Output:\n",
    "\n",
    "    - No. of Upper case characters : 3\n",
    "    - No. of Lower case Characters : 12"
   ]
  },
  {
   "cell_type": "code",
   "execution_count": 22,
   "id": "0e54daa9-4bd9-42a3-a5cf-4714c55b7dd8",
   "metadata": {},
   "outputs": [],
   "source": [
    "def count_low_up(a):\n",
    "    newstr = a.replace(' ','')\n",
    "    up = 0\n",
    "    lp = 0\n",
    "    for i in newstr:\n",
    "        if i == i.lower():\n",
    "            lp += 1\n",
    "        else:\n",
    "            up += 1\n",
    "    return f'''\n",
    "Lower Count = {lp}\n",
    "Upper Count = {up}\n",
    "'''"
   ]
  },
  {
   "cell_type": "code",
   "execution_count": 24,
   "id": "d5cc3e7e-13fc-430d-bb2e-863c2635d799",
   "metadata": {},
   "outputs": [
    {
     "name": "stdout",
     "output_type": "stream",
     "text": [
      "\n",
      "Lower Count = 11\n",
      "Upper Count = 3\n",
      "\n"
     ]
    }
   ],
   "source": [
    "print(count_low_up('My Name is Tayyab'))"
   ]
  },
  {
   "cell_type": "markdown",
   "id": "8dec4cab-00f8-45a0-9e39-7a70aede7331",
   "metadata": {},
   "source": [
    "8. Write a Python function that takes a list and returns a new list with distinct\n",
    "\n",
    "    elements from the first list.\n",
    "\n",
    "    Sample List : [1,2,3,3,3,3,4,5]\n",
    "\n",
    "    Unique List : [1, 2, 3, 4, 5]"
   ]
  },
  {
   "cell_type": "code",
   "execution_count": 38,
   "id": "20acc3e8-b042-4058-b316-ce3791091b98",
   "metadata": {},
   "outputs": [],
   "source": [
    "def distinct(a):\n",
    "    return list(set(a))"
   ]
  },
  {
   "cell_type": "code",
   "execution_count": 40,
   "id": "0d1310d9-771b-483d-9237-5a03c3f87f2d",
   "metadata": {},
   "outputs": [
    {
     "data": {
      "text/plain": [
       "[1, 2, 3, 4, 5]"
      ]
     },
     "execution_count": 40,
     "metadata": {},
     "output_type": "execute_result"
    }
   ],
   "source": [
    "Sample = [1,2,3,3,3,3,4,5]\n",
    "distinct(Sample)"
   ]
  },
  {
   "cell_type": "markdown",
   "id": "67db5c84-5098-4c36-a5ec-c7b6fce531a6",
   "metadata": {},
   "source": [
    "9. Write a Python function that takes a number as a parameter and checks\n",
    "whether the number is prime or not.\n",
    "\n",
    "    Note : A prime number (or a prime) is a natural number greater than 1 and that has no positive divisors other than 1 and itself."
   ]
  },
  {
   "cell_type": "code",
   "execution_count": 70,
   "id": "e628e3b2-8bce-4844-a93b-00fa4d13ded5",
   "metadata": {},
   "outputs": [],
   "source": [
    "def check_prime(a):\n",
    "    if a <= 1:\n",
    "        return \"Not a Prime Number\"\n",
    "    if a == 2:\n",
    "        return \"Prime Number\"\n",
    "    if a % 2 == 0:\n",
    "        return \"Not a Prime Number\"\n",
    "    for i in range(3, int(a**0.5) + 1, 2):\n",
    "        if a % i == 0:\n",
    "            return \"Not a Prime Number\"\n",
    "    return \"Prime Number\""
   ]
  },
  {
   "cell_type": "code",
   "execution_count": 72,
   "id": "f147c4bb-91bc-4f9d-aa13-e7af6013258c",
   "metadata": {},
   "outputs": [
    {
     "name": "stdout",
     "output_type": "stream",
     "text": [
      "Not a Prime Number\n"
     ]
    }
   ],
   "source": [
    "print(check_prime(129))"
   ]
  },
  {
   "cell_type": "markdown",
   "id": "181a3470-0093-4e93-bc3d-d86359823bdf",
   "metadata": {},
   "source": [
    "10. Write a Python program to print the even numbers from a given list.\n",
    "\n",
    "    Sample List : [1, 2, 3, 4, 5, 6, 7, 8, 9]\n",
    "\n",
    "    Expected Result : [2, 4, 6, 8]"
   ]
  },
  {
   "cell_type": "code",
   "execution_count": 144,
   "id": "5a3cc7b5-e1ad-48c6-9c98-9373733ac280",
   "metadata": {},
   "outputs": [],
   "source": [
    "def even_list(a):\n",
    "    new = []\n",
    "    for i in a:\n",
    "        if i%2 == 0:\n",
    "            new.append(i)\n",
    "    return new"
   ]
  },
  {
   "cell_type": "code",
   "execution_count": 141,
   "id": "09ab5134-a9c3-473c-9127-165e60518764",
   "metadata": {},
   "outputs": [
    {
     "data": {
      "text/plain": [
       "[2, 4, 6, 8]"
      ]
     },
     "execution_count": 141,
     "metadata": {},
     "output_type": "execute_result"
    }
   ],
   "source": [
    "sampleList = [1, 2, 3, 4, 5, 6, 7, 8, 9]\n",
    "even_list(sampleList)"
   ]
  },
  {
   "cell_type": "markdown",
   "id": "7491b0ad-c27e-43e1-833b-495f28a15ec4",
   "metadata": {},
   "source": [
    "11. Write a Python function to check whether a number is \"Perfect\" or not.\n",
    "According to Wikipedia : In number theory, a perfect number is a positive integer\n",
    "that is equal to the sum of its proper positive divisors, that is, the sum of its\n",
    "positive divisors excluding the number itself (also known as its aliquot sum).\n",
    "Equivalently, a perfect number is a number that is half the sum of all of its\n",
    "positive divisors (including itself).\n",
    "\n",
    "    Example : The first perfect number is 6, because 1, 2, and 3 are its proper positive divisors, and 1 + 2 + 3 = 6. Equivalently, the number 6 is equal to half the sum of all its positive divisors: ( 1 + 2 + 3 + 6 ) / 2 = 6. The next perfect number is 28 = 1 + 2 + 4 + 7 + 14. This is followed by the perfect numbers 496 and 8128."
   ]
  },
  {
   "cell_type": "code",
   "execution_count": 206,
   "id": "30feb34c-c52a-4e2f-a6e8-f380248e3f75",
   "metadata": {},
   "outputs": [],
   "source": [
    "def perfect(a):\n",
    "    s = 0\n",
    "    for i in range(1,a+1):\n",
    "        if a%i == 0:\n",
    "            s += i\n",
    "    if s/2 == a:\n",
    "        print(\"Perfect\")\n",
    "    else:\n",
    "        print(\"Not a perfect\")"
   ]
  },
  {
   "cell_type": "code",
   "execution_count": 214,
   "id": "fcc2ea11-cb70-4b17-893a-1ed336f24bdb",
   "metadata": {},
   "outputs": [
    {
     "name": "stdout",
     "output_type": "stream",
     "text": [
      "Not a perfect\n",
      "Perfect\n",
      "Not a perfect\n",
      "Perfect\n"
     ]
    }
   ],
   "source": [
    "perfect(10)\n",
    "perfect(496)\n",
    "perfect(30)\n",
    "perfect(8128)"
   ]
  },
  {
   "cell_type": "markdown",
   "id": "2b0656a7-35b4-42b5-be63-eeefa3f4e49f",
   "metadata": {},
   "source": [
    "12. Write a Python function that checks whether a passed string is a palindrome\n",
    "or not.\n",
    "\n",
    "    Note: A palindrome is a word, phrase, or sequence that reads the same backward as forward, e.g., madam or nurses run."
   ]
  },
  {
   "cell_type": "code",
   "execution_count": 217,
   "id": "21070026-b222-47d6-b16e-8eab9241559b",
   "metadata": {},
   "outputs": [],
   "source": [
    "def palindrome(a):\n",
    "    new = a[len(a)::-1]\n",
    "    if new == a:\n",
    "        print('Palindrome')\n",
    "    else:\n",
    "        print('Not a palindrome')"
   ]
  },
  {
   "cell_type": "code",
   "execution_count": 225,
   "id": "08381c44-bc1b-4ec3-81fe-7e498ef04f06",
   "metadata": {},
   "outputs": [
    {
     "name": "stdout",
     "output_type": "stream",
     "text": [
      "Palindrome\n",
      "Not a palindrome\n",
      "Palindrome\n",
      "Not a palindrome\n"
     ]
    }
   ],
   "source": [
    "palindrome('madam')\n",
    "palindrome('nurses')\n",
    "palindrome('radar')\n",
    "palindrome('run')"
   ]
  },
  {
   "cell_type": "markdown",
   "id": "0b7145f8-96f1-4342-8989-08abf0c776f9",
   "metadata": {},
   "source": [
    "# Function Assingment 2"
   ]
  },
  {
   "cell_type": "markdown",
   "id": "ca22c738-e0d9-4e07-b6c3-de0e59f648b5",
   "metadata": {},
   "source": [
    "1. You need to write a function in python that return all such numbers which are\n",
    "divisible by 7 but are not a multiple of 5, between 2000 and 3200 (both included).\n",
    "Return the obtained numbers in a comma-separated sequence on a single line."
   ]
  },
  {
   "cell_type": "code",
   "execution_count": 253,
   "id": "c2b15532-f30c-447e-8295-ebc4d1e3e5a9",
   "metadata": {},
   "outputs": [],
   "source": [
    "def task1(start, end):\n",
    "    result = []\n",
    "    for i in range(start, end + 1):\n",
    "        if i % 7 == 0 and i % 5 != 0:\n",
    "            result.append(str(i))\n",
    "    return ','.join(result)"
   ]
  },
  {
   "cell_type": "code",
   "execution_count": 255,
   "id": "e7a92ecc-ee23-4d1a-9245-20ce437781df",
   "metadata": {},
   "outputs": [
    {
     "name": "stdout",
     "output_type": "stream",
     "text": [
      "2002,2009,2016,2023,2037,2044,2051,2058,2072,2079,2086,2093,2107,2114,2121,2128,2142,2149,2156,2163,2177,2184,2191,2198,2212,2219,2226,2233,2247,2254,2261,2268,2282,2289,2296,2303,2317,2324,2331,2338,2352,2359,2366,2373,2387,2394,2401,2408,2422,2429,2436,2443,2457,2464,2471,2478,2492,2499,2506,2513,2527,2534,2541,2548,2562,2569,2576,2583,2597,2604,2611,2618,2632,2639,2646,2653,2667,2674,2681,2688,2702,2709,2716,2723,2737,2744,2751,2758,2772,2779,2786,2793,2807,2814,2821,2828,2842,2849,2856,2863,2877,2884,2891,2898,2912,2919,2926,2933,2947,2954,2961,2968,2982,2989,2996,3003,3017,3024,3031,3038,3052,3059,3066,3073,3087,3094,3101,3108,3122,3129,3136,3143,3157,3164,3171,3178,3192,3199\n"
     ]
    }
   ],
   "source": [
    "print(task1(2000,3200))"
   ]
  },
  {
   "cell_type": "markdown",
   "id": "9e0010e9-4a2e-4fab-a4c0-a56b2b5d0baa",
   "metadata": {},
   "source": [
    "2. You need code a function that calculates and returns the value according to the given formula:\n",
    "\n",
    "P = Square root of [(2 * A * B)/C]\n",
    "\n",
    "Following are the fixed values of A and B:\n",
    "\n",
    "A is 50. B is 30.\n",
    "\n",
    "The values of the literal C should be taken as console input to your program in a\n",
    "comma-separated sequence.\n",
    "\n",
    "Example\n",
    "Let us assume the following comma separated input sequence is given to the program:\n",
    "\n",
    "100,150,180\n",
    "\n",
    "The output of the program should be:\n",
    "\n",
    "18,22,24"
   ]
  },
  {
   "cell_type": "code",
   "execution_count": 319,
   "id": "a1b83708-3c5a-40ad-84b9-add36fe0dca4",
   "metadata": {},
   "outputs": [],
   "source": [
    "import math\n",
    "\n",
    "def task2():\n",
    "    A = 50\n",
    "    B = 30\n",
    "    inp = input(\"Enter comma-separated values for C: \")\n",
    "    C = [int(i) for i in inp.split(\",\")]\n",
    "    results = []\n",
    "    for j in C:\n",
    "        P = math.sqrt((2 * A * B) / j)\n",
    "        results.append(str(int(P)))\n",
    "    return \",\".join(results)"
   ]
  },
  {
   "cell_type": "code",
   "execution_count": 321,
   "id": "21465349-c96b-4a4e-ad9a-3e0c27587f48",
   "metadata": {},
   "outputs": [
    {
     "name": "stdin",
     "output_type": "stream",
     "text": [
      "Enter comma-separated values for C:  100,150,180\n"
     ]
    },
    {
     "name": "stdout",
     "output_type": "stream",
     "text": [
      "5,4,4\n"
     ]
    }
   ],
   "source": [
    "print(task2())"
   ]
  },
  {
   "cell_type": "markdown",
   "id": "761c97ca-2ea1-403b-a5b3-9b3db03791c5",
   "metadata": {},
   "source": [
    "3. You need to write a function that takes a comma separated sequence of words as input and prints the words in a comma-separated sequence after sorting them alphabetically.\n",
    "\n",
    "Suppose the following input is supplied to the program:\n",
    "\n",
    "without,hello,bag,world\n",
    "\n",
    "Then, the output should be:\n",
    "\n",
    "bag,hello,without,world"
   ]
  },
  {
   "cell_type": "code",
   "execution_count": 354,
   "id": "820e158e-a663-40af-be3b-95b8713d24b9",
   "metadata": {},
   "outputs": [],
   "source": [
    "def task3():\n",
    "    inp = input(\"Enter words: \")\n",
    "    lst = inp.split(\",\")\n",
    "    n = len(lst)\n",
    "    for i in range(n):\n",
    "        for j in range(0, n-i-1):\n",
    "            if lst[j] > lst[j+1]:\n",
    "                lst[j], lst[j+1] = lst[j+1], lst[j]\n",
    "    print(\",\".join(lst))"
   ]
  },
  {
   "cell_type": "code",
   "execution_count": 356,
   "id": "e826cbc3-4501-472e-8d49-88309c1c28c9",
   "metadata": {},
   "outputs": [
    {
     "name": "stdin",
     "output_type": "stream",
     "text": [
      "Enter words:  without,hello,bag,world\n"
     ]
    },
    {
     "name": "stdout",
     "output_type": "stream",
     "text": [
      "bag,hello,without,world\n"
     ]
    }
   ],
   "source": [
    "task3()"
   ]
  },
  {
   "cell_type": "markdown",
   "id": "d7314656-7548-49e1-a9b7-3f230cc03121",
   "metadata": {},
   "source": [
    "4. You need to write a program that takes sequence of lines as input and prints the lines after making all characters in the sentence capitalized.\n",
    "\n",
    "Suppose the following input is supplied to the program:\n",
    "\n",
    "Hello world\n",
    "\n",
    "Practice makes perfect\n",
    "\n",
    "Then, the output should be:\n",
    "\n",
    "HELLO WORLD\n",
    "\n",
    "PRACTICE MAKES PERFECT"
   ]
  },
  {
   "cell_type": "code",
   "execution_count": 362,
   "id": "cdfaa313-a9b0-4853-b5c6-9bd28d084ba3",
   "metadata": {},
   "outputs": [],
   "source": [
    "def task4():\n",
    "    print(\"Enter the lines (doublepress Enter to stop):\")\n",
    "    lines = []\n",
    "    \n",
    "    while True:\n",
    "        line = input()\n",
    "        if line == \"\":\n",
    "            break\n",
    "        lines.append(line)\n",
    "\n",
    "    for line in lines:\n",
    "        print(line.upper())"
   ]
  },
  {
   "cell_type": "code",
   "execution_count": 364,
   "id": "e49f32df-5ed2-4ef7-8045-82bc205b2d60",
   "metadata": {},
   "outputs": [
    {
     "name": "stdout",
     "output_type": "stream",
     "text": [
      "Enter the lines (doublepress Enter to stop):\n"
     ]
    },
    {
     "name": "stdin",
     "output_type": "stream",
     "text": [
      " Hello, \n",
      " my name is tayyab \n",
      " today is friday\n",
      " \n"
     ]
    },
    {
     "name": "stdout",
     "output_type": "stream",
     "text": [
      "HELLO, \n",
      "MY NAME IS TAYYAB \n",
      "TODAY IS FRIDAY\n"
     ]
    }
   ],
   "source": [
    "task4()"
   ]
  },
  {
   "cell_type": "markdown",
   "id": "bf8f3919-0a8e-4111-b921-569ec516c4fd",
   "metadata": {},
   "source": [
    "5. You need to write a function that counts the number of vowels in a given sentence as input from console.\n",
    "\n",
    "Suppose the following input is supplied to the program:\n",
    "\n",
    "Hello world\n",
    "\n",
    "Practice makes perfect\n",
    "\n",
    "Then, the output should be:\n",
    "\n",
    "    - a appeared 2 times\n",
    "    - e appeared 5 times\n",
    "    - i appeared 1 time\n",
    "    - o appeared 2 times\n",
    "    - u appeared 0 time"
   ]
  },
  {
   "cell_type": "code",
   "execution_count": 387,
   "id": "a8629afe-66bc-4416-8911-dde3cbf343ef",
   "metadata": {},
   "outputs": [],
   "source": [
    "def task5():\n",
    "    sentence = input(\"Enter a sentence: \")\n",
    "    vowels = 'aeiou'\n",
    "    vowel_dis = {vowel: 0 for vowel in vowels}\n",
    "    \n",
    "    for i in sentence.lower():\n",
    "        if i in vowels:\n",
    "            vowel_dis[i] += 1\n",
    "    for vowel in vowels:\n",
    "        if vowel_dis[vowel] == 1:\n",
    "            print(f\"{vowel} appeared {vowel_dis[vowel]} time\")\n",
    "        else:\n",
    "            print(f\"{vowel} appeared {vowel_dis[vowel]} times\")"
   ]
  },
  {
   "cell_type": "code",
   "execution_count": 389,
   "id": "dae511d4-87bb-40e7-a5d4-1690e8ddfb79",
   "metadata": {},
   "outputs": [
    {
     "name": "stdin",
     "output_type": "stream",
     "text": [
      "Enter a sentence:  Hello world  Practice makes perfect\n"
     ]
    },
    {
     "name": "stdout",
     "output_type": "stream",
     "text": [
      "a appeared 2 times\n",
      "e appeared 5 times\n",
      "i appeared 1 time\n",
      "o appeared 2 times\n",
      "u appeared 0 times\n"
     ]
    }
   ],
   "source": [
    "task5()"
   ]
  },
  {
   "cell_type": "markdown",
   "id": "145ae8c8-24ce-471f-b580-54bb3157ba4f",
   "metadata": {},
   "source": [
    "6. You need write a function that traces and makes a list of all such numbers\n",
    "from1000 to 3000 in which all the digits are even numbers."
   ]
  },
  {
   "cell_type": "code",
   "execution_count": 392,
   "id": "fb2d1418-6932-40f1-a51b-b86921eedd62",
   "metadata": {},
   "outputs": [],
   "source": [
    "def task6(start,end):\n",
    "    lst = []\n",
    "    for i in range(start,end+1):\n",
    "        if i%2 == 0:\n",
    "            lst.append(i)\n",
    "    return lst"
   ]
  },
  {
   "cell_type": "code",
   "execution_count": 396,
   "id": "532691ef-8cc1-4b6e-967d-fbbe157620bf",
   "metadata": {},
   "outputs": [
    {
     "name": "stdout",
     "output_type": "stream",
     "text": [
      "[1000, 1002, 1004, 1006, 1008, 1010, 1012, 1014, 1016, 1018, 1020, 1022, 1024, 1026, 1028, 1030, 1032, 1034, 1036, 1038, 1040, 1042, 1044, 1046, 1048, 1050, 1052, 1054, 1056, 1058, 1060, 1062, 1064, 1066, 1068, 1070, 1072, 1074, 1076, 1078, 1080, 1082, 1084, 1086, 1088, 1090, 1092, 1094, 1096, 1098, 1100, 1102, 1104, 1106, 1108, 1110, 1112, 1114, 1116, 1118, 1120, 1122, 1124, 1126, 1128, 1130, 1132, 1134, 1136, 1138, 1140, 1142, 1144, 1146, 1148, 1150, 1152, 1154, 1156, 1158, 1160, 1162, 1164, 1166, 1168, 1170, 1172, 1174, 1176, 1178, 1180, 1182, 1184, 1186, 1188, 1190, 1192, 1194, 1196, 1198, 1200, 1202, 1204, 1206, 1208, 1210, 1212, 1214, 1216, 1218, 1220, 1222, 1224, 1226, 1228, 1230, 1232, 1234, 1236, 1238, 1240, 1242, 1244, 1246, 1248, 1250, 1252, 1254, 1256, 1258, 1260, 1262, 1264, 1266, 1268, 1270, 1272, 1274, 1276, 1278, 1280, 1282, 1284, 1286, 1288, 1290, 1292, 1294, 1296, 1298, 1300, 1302, 1304, 1306, 1308, 1310, 1312, 1314, 1316, 1318, 1320, 1322, 1324, 1326, 1328, 1330, 1332, 1334, 1336, 1338, 1340, 1342, 1344, 1346, 1348, 1350, 1352, 1354, 1356, 1358, 1360, 1362, 1364, 1366, 1368, 1370, 1372, 1374, 1376, 1378, 1380, 1382, 1384, 1386, 1388, 1390, 1392, 1394, 1396, 1398, 1400, 1402, 1404, 1406, 1408, 1410, 1412, 1414, 1416, 1418, 1420, 1422, 1424, 1426, 1428, 1430, 1432, 1434, 1436, 1438, 1440, 1442, 1444, 1446, 1448, 1450, 1452, 1454, 1456, 1458, 1460, 1462, 1464, 1466, 1468, 1470, 1472, 1474, 1476, 1478, 1480, 1482, 1484, 1486, 1488, 1490, 1492, 1494, 1496, 1498, 1500, 1502, 1504, 1506, 1508, 1510, 1512, 1514, 1516, 1518, 1520, 1522, 1524, 1526, 1528, 1530, 1532, 1534, 1536, 1538, 1540, 1542, 1544, 1546, 1548, 1550, 1552, 1554, 1556, 1558, 1560, 1562, 1564, 1566, 1568, 1570, 1572, 1574, 1576, 1578, 1580, 1582, 1584, 1586, 1588, 1590, 1592, 1594, 1596, 1598, 1600, 1602, 1604, 1606, 1608, 1610, 1612, 1614, 1616, 1618, 1620, 1622, 1624, 1626, 1628, 1630, 1632, 1634, 1636, 1638, 1640, 1642, 1644, 1646, 1648, 1650, 1652, 1654, 1656, 1658, 1660, 1662, 1664, 1666, 1668, 1670, 1672, 1674, 1676, 1678, 1680, 1682, 1684, 1686, 1688, 1690, 1692, 1694, 1696, 1698, 1700, 1702, 1704, 1706, 1708, 1710, 1712, 1714, 1716, 1718, 1720, 1722, 1724, 1726, 1728, 1730, 1732, 1734, 1736, 1738, 1740, 1742, 1744, 1746, 1748, 1750, 1752, 1754, 1756, 1758, 1760, 1762, 1764, 1766, 1768, 1770, 1772, 1774, 1776, 1778, 1780, 1782, 1784, 1786, 1788, 1790, 1792, 1794, 1796, 1798, 1800, 1802, 1804, 1806, 1808, 1810, 1812, 1814, 1816, 1818, 1820, 1822, 1824, 1826, 1828, 1830, 1832, 1834, 1836, 1838, 1840, 1842, 1844, 1846, 1848, 1850, 1852, 1854, 1856, 1858, 1860, 1862, 1864, 1866, 1868, 1870, 1872, 1874, 1876, 1878, 1880, 1882, 1884, 1886, 1888, 1890, 1892, 1894, 1896, 1898, 1900, 1902, 1904, 1906, 1908, 1910, 1912, 1914, 1916, 1918, 1920, 1922, 1924, 1926, 1928, 1930, 1932, 1934, 1936, 1938, 1940, 1942, 1944, 1946, 1948, 1950, 1952, 1954, 1956, 1958, 1960, 1962, 1964, 1966, 1968, 1970, 1972, 1974, 1976, 1978, 1980, 1982, 1984, 1986, 1988, 1990, 1992, 1994, 1996, 1998, 2000, 2002, 2004, 2006, 2008, 2010, 2012, 2014, 2016, 2018, 2020, 2022, 2024, 2026, 2028, 2030, 2032, 2034, 2036, 2038, 2040, 2042, 2044, 2046, 2048, 2050, 2052, 2054, 2056, 2058, 2060, 2062, 2064, 2066, 2068, 2070, 2072, 2074, 2076, 2078, 2080, 2082, 2084, 2086, 2088, 2090, 2092, 2094, 2096, 2098, 2100, 2102, 2104, 2106, 2108, 2110, 2112, 2114, 2116, 2118, 2120, 2122, 2124, 2126, 2128, 2130, 2132, 2134, 2136, 2138, 2140, 2142, 2144, 2146, 2148, 2150, 2152, 2154, 2156, 2158, 2160, 2162, 2164, 2166, 2168, 2170, 2172, 2174, 2176, 2178, 2180, 2182, 2184, 2186, 2188, 2190, 2192, 2194, 2196, 2198, 2200, 2202, 2204, 2206, 2208, 2210, 2212, 2214, 2216, 2218, 2220, 2222, 2224, 2226, 2228, 2230, 2232, 2234, 2236, 2238, 2240, 2242, 2244, 2246, 2248, 2250, 2252, 2254, 2256, 2258, 2260, 2262, 2264, 2266, 2268, 2270, 2272, 2274, 2276, 2278, 2280, 2282, 2284, 2286, 2288, 2290, 2292, 2294, 2296, 2298, 2300, 2302, 2304, 2306, 2308, 2310, 2312, 2314, 2316, 2318, 2320, 2322, 2324, 2326, 2328, 2330, 2332, 2334, 2336, 2338, 2340, 2342, 2344, 2346, 2348, 2350, 2352, 2354, 2356, 2358, 2360, 2362, 2364, 2366, 2368, 2370, 2372, 2374, 2376, 2378, 2380, 2382, 2384, 2386, 2388, 2390, 2392, 2394, 2396, 2398, 2400, 2402, 2404, 2406, 2408, 2410, 2412, 2414, 2416, 2418, 2420, 2422, 2424, 2426, 2428, 2430, 2432, 2434, 2436, 2438, 2440, 2442, 2444, 2446, 2448, 2450, 2452, 2454, 2456, 2458, 2460, 2462, 2464, 2466, 2468, 2470, 2472, 2474, 2476, 2478, 2480, 2482, 2484, 2486, 2488, 2490, 2492, 2494, 2496, 2498, 2500, 2502, 2504, 2506, 2508, 2510, 2512, 2514, 2516, 2518, 2520, 2522, 2524, 2526, 2528, 2530, 2532, 2534, 2536, 2538, 2540, 2542, 2544, 2546, 2548, 2550, 2552, 2554, 2556, 2558, 2560, 2562, 2564, 2566, 2568, 2570, 2572, 2574, 2576, 2578, 2580, 2582, 2584, 2586, 2588, 2590, 2592, 2594, 2596, 2598, 2600, 2602, 2604, 2606, 2608, 2610, 2612, 2614, 2616, 2618, 2620, 2622, 2624, 2626, 2628, 2630, 2632, 2634, 2636, 2638, 2640, 2642, 2644, 2646, 2648, 2650, 2652, 2654, 2656, 2658, 2660, 2662, 2664, 2666, 2668, 2670, 2672, 2674, 2676, 2678, 2680, 2682, 2684, 2686, 2688, 2690, 2692, 2694, 2696, 2698, 2700, 2702, 2704, 2706, 2708, 2710, 2712, 2714, 2716, 2718, 2720, 2722, 2724, 2726, 2728, 2730, 2732, 2734, 2736, 2738, 2740, 2742, 2744, 2746, 2748, 2750, 2752, 2754, 2756, 2758, 2760, 2762, 2764, 2766, 2768, 2770, 2772, 2774, 2776, 2778, 2780, 2782, 2784, 2786, 2788, 2790, 2792, 2794, 2796, 2798, 2800, 2802, 2804, 2806, 2808, 2810, 2812, 2814, 2816, 2818, 2820, 2822, 2824, 2826, 2828, 2830, 2832, 2834, 2836, 2838, 2840, 2842, 2844, 2846, 2848, 2850, 2852, 2854, 2856, 2858, 2860, 2862, 2864, 2866, 2868, 2870, 2872, 2874, 2876, 2878, 2880, 2882, 2884, 2886, 2888, 2890, 2892, 2894, 2896, 2898, 2900, 2902, 2904, 2906, 2908, 2910, 2912, 2914, 2916, 2918, 2920, 2922, 2924, 2926, 2928, 2930, 2932, 2934, 2936, 2938, 2940, 2942, 2944, 2946, 2948, 2950, 2952, 2954, 2956, 2958, 2960, 2962, 2964, 2966, 2968, 2970, 2972, 2974, 2976, 2978, 2980, 2982, 2984, 2986, 2988, 2990, 2992, 2994, 2996, 2998, 3000]\n"
     ]
    }
   ],
   "source": [
    "print(task6(1000,3000))"
   ]
  },
  {
   "cell_type": "markdown",
   "id": "09442fc1-8803-4d4b-9dc9-e57a6e7b1f3f",
   "metadata": {},
   "source": [
    "7. You need to write a code which accepts a sequence of comma separated 4 digit binary numbers as its input and then check whether they are divisible by 5 or not.\n",
    "\n",
    "The numbers that are divisible by 5 are to be printed in a comma separated sequence.\n",
    "\n",
    "Example:\n",
    "\n",
    "0100,0011,1010,1001\n",
    "\n",
    "Then the output should be:\n",
    "\n",
    "1010"
   ]
  },
  {
   "cell_type": "code",
   "execution_count": 399,
   "id": "7be91eee-0acc-4fbd-8ec9-7a7891a8907c",
   "metadata": {},
   "outputs": [],
   "source": [
    "def task7():\n",
    "    number = input(\"Enter comma-separated 4-digit binary numbers: \")\n",
    "    \n",
    "    binary_list = number.split(\",\")\n",
    "    divisible_by_5 = []\n",
    "    for binary in binary_list:\n",
    "        decimal = int(binary, 2)\n",
    "        if decimal % 5 == 0:\n",
    "            divisible_by_5.append(binary)\n",
    "    print(\",\".join(divisible_by_5))"
   ]
  },
  {
   "cell_type": "code",
   "execution_count": 403,
   "id": "1cff080e-3a7f-4d80-a513-3ea7ae7fb452",
   "metadata": {},
   "outputs": [
    {
     "name": "stdin",
     "output_type": "stream",
     "text": [
      "Enter comma-separated 4-digit binary numbers:  0100,0011,1010,1001\n"
     ]
    },
    {
     "name": "stdout",
     "output_type": "stream",
     "text": [
      "1010\n"
     ]
    }
   ],
   "source": [
    "task7()"
   ]
  },
  {
   "cell_type": "markdown",
   "id": "005d361e-a95c-4428-b7f3-d877a63cacf7",
   "metadata": {},
   "source": [
    "8. Write a program that accepts a sentence and calculate the number of letters and digits.\n",
    "\n",
    "Suppose the following input is supplied to the program:\n",
    "\n",
    "hello world! 123\n",
    "\n",
    "Then, the output should be:\n",
    "\n",
    "LETTERS 10\n",
    "\n",
    "DIGITS 3"
   ]
  },
  {
   "cell_type": "code",
   "execution_count": 407,
   "id": "3975ec09-39d9-4e4a-b51c-7b6408d40411",
   "metadata": {},
   "outputs": [],
   "source": [
    "def task8():\n",
    "    sentence = input(\"Enter a sentence: \")\n",
    "    \n",
    "    letters = 0\n",
    "    digits = 0\n",
    "    for char in sentence:\n",
    "        if char.isalpha():\n",
    "            letters += 1\n",
    "        elif char.isdigit():\n",
    "            digits += 1\n",
    "    \n",
    "    print(f\"LETTERS {letters}\")\n",
    "    print(f\"DIGITS {digits}\")"
   ]
  },
  {
   "cell_type": "code",
   "execution_count": 409,
   "id": "c7ad8ec3-d8dd-4633-a465-fcd1260a7e9d",
   "metadata": {},
   "outputs": [
    {
     "name": "stdin",
     "output_type": "stream",
     "text": [
      "Enter a sentence:  hello world! 123\n"
     ]
    },
    {
     "name": "stdout",
     "output_type": "stream",
     "text": [
      "LETTERS 10\n",
      "DIGITS 3\n"
     ]
    }
   ],
   "source": [
    "task8()"
   ]
  }
 ],
 "metadata": {
  "kernelspec": {
   "display_name": "Python 3 (ipykernel)",
   "language": "python",
   "name": "python3"
  },
  "language_info": {
   "codemirror_mode": {
    "name": "ipython",
    "version": 3
   },
   "file_extension": ".py",
   "mimetype": "text/x-python",
   "name": "python",
   "nbconvert_exporter": "python",
   "pygments_lexer": "ipython3",
   "version": "3.12.7"
  }
 },
 "nbformat": 4,
 "nbformat_minor": 5
}

{
 "cells": [
  {
   "cell_type": "markdown",
   "id": "a8bb2d60-6000-4703-873a-cd7e9e883258",
   "metadata": {},
   "source": [
    "# Python If Else Practice Questions\n",
    "    A- Python If Else Practice Questions\n",
    "    B- Tax Calculations\n",
    "    C- Shopping and Billing\n",
    "    D- Travel and Tickets\n",
    "    E- Grades and Performance"
   ]
  },
  {
   "cell_type": "markdown",
   "id": "3a9a7da6-3027-4373-94f7-f9ac360e4e77",
   "metadata": {
    "jp-MarkdownHeadingCollapsed": true
   },
   "source": [
    "### A- Discounts and Pricing"
   ]
  },
  {
   "cell_type": "markdown",
   "id": "ffbe28a5-f5a1-40bc-9b1f-076390115b67",
   "metadata": {},
   "source": [
    "1. Check Discount Eligibility\n",
    "Write a program to check if a customer is eligible for a discount. If the total purchase is\n",
    "more than $100, apply a 10% discount and display the final price. Otherwise, display the\n",
    "total price as it is."
   ]
  },
  {
   "cell_type": "code",
   "execution_count": 42,
   "id": "0660f798-d1b9-4751-98e7-f3991373679c",
   "metadata": {},
   "outputs": [
    {
     "name": "stdin",
     "output_type": "stream",
     "text": [
      "Enter Amount of Shopping 1200\n"
     ]
    },
    {
     "name": "stdout",
     "output_type": "stream",
     "text": [
      "\n",
      "        \n",
      "    Shopping:                               $1200.0\n",
      "    10% Discount:                           $120.0\n",
      "    \n",
      "    After Discount:                         $1080.0\n",
      "    \n"
     ]
    }
   ],
   "source": [
    "purchase = int(input(\"Enter Amount of Shopping\"))\n",
    "discount = 0.1\n",
    "total_price = None\n",
    "dis = None\n",
    "\n",
    "if purchase > 100:\n",
    "    dis = \"10%\"\n",
    "    total_discount = purchase*discount\n",
    "    total_price = purchase - total_discount\n",
    "else:\n",
    "    dis = \"0%\"\n",
    "    total_price = purchase\n",
    "print(f'''\n",
    "        \n",
    "    Shopping:                               ${float(purchase)}\n",
    "    {dis} Discount:                           ${round(total_discount,2)}\n",
    "    \n",
    "    After Discount:                         ${total_price}\n",
    "    ''')"
   ]
  },
  {
   "cell_type": "markdown",
   "id": "d540d4d5-7ee2-4edf-b9d9-91a8046cf5e6",
   "metadata": {},
   "source": [
    "2. Calculate Bulk Discount\n",
    "If a customer buys more than 5 items, apply a 15% discount on the total price. Otherwise,\n",
    "no discount is applied. Display the total price."
   ]
  },
  {
   "cell_type": "code",
   "execution_count": 46,
   "id": "16d540f4-f5d6-4d89-9a8a-b88933ff636f",
   "metadata": {},
   "outputs": [
    {
     "name": "stdin",
     "output_type": "stream",
     "text": [
      "How Many items you have bought 10\n",
      "Enter Total Item Price 13000\n"
     ]
    },
    {
     "name": "stdout",
     "output_type": "stream",
     "text": [
      "\n",
      "    \n",
      "    Items:                                  10\n",
      "    \n",
      "    Shopping:                               $13000.0\n",
      "    15% Discount:                           $1950.0\n",
      "    \n",
      "    After Discount:                         $11050.0\n",
      "    \n"
     ]
    }
   ],
   "source": [
    "items = int(input(\"How Many items you have bought\"))\n",
    "amount = int(input(\"Enter Total Item Price\"))\n",
    "discount = .15\n",
    "total = None\n",
    "dis = None\n",
    "if items > 5:\n",
    "    dis = \"15%\"\n",
    "    dis_calculate = discount*amount\n",
    "    total = amount - dis_calculate\n",
    "else: \n",
    "    dis =  \"0%\"\n",
    "    total = amount\n",
    "print(f'''\n",
    "    \n",
    "    Items:                                  {items}\n",
    "    \n",
    "    Shopping:                               ${float(amount)}\n",
    "    {dis} Discount:                           ${round(is_calculate)}\n",
    "    \n",
    "    After Discount:                         ${total}\n",
    "    ''')"
   ]
  },
  {
   "cell_type": "markdown",
   "id": "67eff3ef-cde6-48bc-b3a2-3b561b754e04",
   "metadata": {},
   "source": [
    "3. Membership Discount\n",
    "Check if the customer is a member (is_member = True). Members get a 20% discount;\n",
    "non-members get a 5% discount. Calculate and print the discounted price."
   ]
  },
  {
   "cell_type": "code",
   "execution_count": 48,
   "id": "833dac60-4e2d-421a-b988-f1bf61315b31",
   "metadata": {},
   "outputs": [
    {
     "name": "stdin",
     "output_type": "stream",
     "text": [
      "Are you a mamber (Yes or No) yes\n",
      "Enter Total Shoping Amount 20000\n"
     ]
    },
    {
     "name": "stdout",
     "output_type": "stream",
     "text": [
      "\n",
      "    \n",
      "    Mamber:                                 yes\n",
      "    \n",
      "    Shopping:                               $20000.0\n",
      "    20% Discount:                           $4000.0\n",
      "    \n",
      "    After Discount:                         $16000.0\n",
      "    \n"
     ]
    }
   ],
   "source": [
    "is_mamber = input(\"Are you a mamber (Yes or No)\").lower()\n",
    "if is_mamber == \"yes\" or is_mamber == \"no\":\n",
    "    Amount = int(input(\"Enter Total Shoping Amount\"))\n",
    "    yes_discount = 0.2\n",
    "    no_discount = 0.05\n",
    "    dis = None\n",
    "    after_dis = None\n",
    "    \n",
    "    if is_mamber == \"yes\":\n",
    "        dis = \"20%\"\n",
    "        mamber = is_mamber\n",
    "        total_dis = Amount*yes_discount\n",
    "        after_dis = Amount - total_dis\n",
    "    else:\n",
    "        dis = \"5%\"\n",
    "        total_dis = Amount*no_discount\n",
    "        after_dis = Amount - total_dis\n",
    "    print(f'''\n",
    "    \n",
    "    Mamber:                                 {is_mamber}\n",
    "    \n",
    "    Shopping:                               ${float(Amount)}\n",
    "    {dis} Discount:                           ${round(total_dis,2)}\n",
    "    \n",
    "    After Discount:                         ${after_dis}\n",
    "    ''')\n",
    "else:\n",
    "    print(\"Invalid input! Please choose 'yes' or 'no'.\")"
   ]
  },
  {
   "cell_type": "markdown",
   "id": "f4d9f605-ddcc-4887-b2ee-21715ccc3701",
   "metadata": {},
   "source": [
    "4. Seasonal Sale\n",
    "If today is a holiday (is_holiday = True), apply a 25% discount; otherwise, apply a 10%\n",
    "discount. Calculate the price after discount."
   ]
  },
  {
   "cell_type": "code",
   "execution_count": 81,
   "id": "ada4bb39-12ae-47ab-9eb8-5ce3e9bfc956",
   "metadata": {},
   "outputs": [
    {
     "name": "stdin",
     "output_type": "stream",
     "text": [
      "Enter Shopping Amount 29\n"
     ]
    },
    {
     "name": "stdout",
     "output_type": "stream",
     "text": [
      "\n",
      "\n",
      "Today:                                  MONDAY\n",
      "\n",
      "Shopping:                               $29.0\n",
      "10% Discount:                           $2.9\n",
      "\n",
      "After Discount:                         $26.1\n",
      "\n"
     ]
    }
   ],
   "source": [
    "import datetime\n",
    "is_holiday = datetime.datetime.now().strftime(\"%A\").lower()\n",
    "amount = int(input(\"Enter Shopping Amount\"))\n",
    "holiday_dis = 0.2\n",
    "no_holi_dis = 0.1\n",
    "dis = None\n",
    "after_dis = None\n",
    "\n",
    "if is_holiday == \"sunday\" or is_holiday == \"saturday\":\n",
    "    dis = \"20%\"\n",
    "    total_dis = holiday_dis*amount\n",
    "    after_dis = amount - total_dis\n",
    "    \n",
    "else:\n",
    "    dis = \"10%\"\n",
    "    total_dis = no_holi_dis*amount\n",
    "    after_dis = amount - total_dis\n",
    "    \n",
    "print(f'''\n",
    "\n",
    "Today:                                  {is_holiday.upper()}\n",
    "\n",
    "Shopping:                               ${float(amount)}\n",
    "{dis} Discount:                           ${round(total_dis,2)}\n",
    "\n",
    "After Discount:                         ${after_dis}\n",
    "''')\n"
   ]
  },
  {
   "cell_type": "markdown",
   "id": "907cf5cc-8e26-4c48-b553-3e8f78523f0d",
   "metadata": {},
   "source": [
    "5. Buy-One-Get-One-Free\n",
    "If a customer buys an even number of items, they get half of them for free. Otherwise,\n",
    "they pay for all. Calculate the number of items the customer has to pay for."
   ]
  },
  {
   "cell_type": "code",
   "execution_count": 96,
   "id": "bae1fcfc-a8bc-45e5-848d-8427b225a7af",
   "metadata": {},
   "outputs": [
    {
     "name": "stdin",
     "output_type": "stream",
     "text": [
      "How Many items you have bought 2\n",
      "Enter Total Amount 20\n"
     ]
    },
    {
     "name": "stdout",
     "output_type": "stream",
     "text": [
      "\n",
      "\n",
      "Items:                                  2\n",
      "\n",
      "Shopping:                               $20.0\n",
      "50% Discount:                           $10.0\n",
      "\n",
      "After Discount:                         $10.0\n",
      "\n"
     ]
    }
   ],
   "source": [
    "items = int(input(\"How Many items you have bought\"))\n",
    "amount = int(input(\"Enter Total Amount\"))\n",
    "discount = 0.5\n",
    "total = None\n",
    "cal_dis = None\n",
    "dis = None\n",
    "if items % 2 == 0:\n",
    "    dis = \"50%\"\n",
    "    cal_dis = amount*discount\n",
    "    total = amount - cal_dis\n",
    "else:\n",
    "    dis = \"0%\"\n",
    "    cal_dis = 0\n",
    "    total = amount\n",
    "\n",
    "print(f'''\n",
    "\n",
    "Items:                                  {items}\n",
    "\n",
    "Shopping:                               ${float(amount)}\n",
    "{dis} Discount:                           ${round(cal_dis,2)}\n",
    "\n",
    "After Discount:                         ${total}\n",
    "''')\n"
   ]
  },
  {
   "cell_type": "markdown",
   "id": "8f908b19-572f-4064-b05f-ff75ebef6d91",
   "metadata": {
    "jp-MarkdownHeadingCollapsed": true
   },
   "source": [
    "### B- Tax Calculations"
   ]
  },
  {
   "cell_type": "markdown",
   "id": "c42efb68-d14a-4b4f-b560-8fdd8b945f7d",
   "metadata": {},
   "source": [
    "6. #### Sales Tax\n",
    "    If the price of an item is greater than $500, apply a luxury tax of 15%. Otherwise, apply a\n",
    "standard tax of 8%. Display the total price after tax."
   ]
  },
  {
   "cell_type": "code",
   "execution_count": 11,
   "id": "a4bf7316-6aa4-4391-b709-51fddc577429",
   "metadata": {},
   "outputs": [
    {
     "name": "stdin",
     "output_type": "stream",
     "text": [
      "Enter Amount of Shopping 1000\n"
     ]
    },
    {
     "name": "stdout",
     "output_type": "stream",
     "text": [
      "\n",
      "        \n",
      "    Shopping:                               $1000.0\n",
      "    15% tax:                                $150.0\n",
      "    \n",
      "    After Discount:                         $1150.0\n",
      "    \n"
     ]
    }
   ],
   "source": [
    "purchase = int(input(\"Enter Amount of Shopping\"))\n",
    "luxury = 0.15\n",
    "standard = 0.08\n",
    "total_price = None\n",
    "tax = None\n",
    "\n",
    "if purchase > 500:\n",
    "    tax = \"15%\"\n",
    "    total_tax = purchase*luxury\n",
    "    total_price = purchase + total_tax\n",
    "else:\n",
    "    tax = \"8%\"\n",
    "    total_tax = purchase*standard\n",
    "    total_price = purchase + total_tax\n",
    "print(f'''\n",
    "        \n",
    "    Shopping:                               ${float(purchase)}\n",
    "    {tax} tax:                                ${round(total_tax,2)}\n",
    "    \n",
    "    After Discount:                         ${total_price}\n",
    "    ''')"
   ]
  },
  {
   "cell_type": "markdown",
   "id": "626c2852-ba45-4906-91e8-a7f081e18179",
   "metadata": {},
   "source": [
    "7. #### Income Tax\n",
    "    If a person&#39;s annual income is above $50,000, they pay 20% tax. Otherwise, they pay\n",
    "10%. Calculate and display the tax amount."
   ]
  },
  {
   "cell_type": "code",
   "execution_count": 21,
   "id": "37467dce-f86f-4021-95da-25c0e50ab3c9",
   "metadata": {},
   "outputs": [
    {
     "name": "stdin",
     "output_type": "stream",
     "text": [
      "Enter Annual Income Amount:  55000\n"
     ]
    },
    {
     "name": "stdout",
     "output_type": "stream",
     "text": [
      "\n",
      "        \n",
      "    Shopping:                               $55000.0\n",
      "    20% tax:                                $11000.0\n",
      "    \n"
     ]
    }
   ],
   "source": [
    "income = int(input(\"Enter Annual Income Amount: \"))\n",
    "total_price = None\n",
    "tax = None\n",
    "\n",
    "if income > 50000:\n",
    "    tax = \"20%\"\n",
    "    total_tax = income*0.2\n",
    "else:\n",
    "    tax = \"10%\"\n",
    "    total_tax = income*0.1\n",
    "print(f'''\n",
    "        \n",
    "    Shopping:                               ${float(income)}\n",
    "    {tax} tax:                                ${round(total_tax,2)}\n",
    "    ''')"
   ]
  },
  {
   "cell_type": "markdown",
   "id": "809a809c-3fa7-4f17-9647-f979b2511369",
   "metadata": {},
   "source": [
    "8. #### Tax Bracket\n",
    "    Write a program to categorize a person into tax brackets:\n",
    "   - Income &lt; 30,000: &quot;Low Tax&quot;\n",
    "   - 30,000 ≤ Income &lt; 100,000: &quot;Medium Tax&quot;\n",
    "   - Income ≥ 100,000: &quot;High Tax&quot;"
   ]
  },
  {
   "cell_type": "code",
   "execution_count": 35,
   "id": "1fe705f8-71ad-4309-ad5e-1f9c9caeaee8",
   "metadata": {},
   "outputs": [
    {
     "name": "stdin",
     "output_type": "stream",
     "text": [
      "Enter Income Amount:  10000\n"
     ]
    },
    {
     "name": "stdout",
     "output_type": "stream",
     "text": [
      "Your Income is Low Tax\n"
     ]
    }
   ],
   "source": [
    "income = int(input(\"Enter Income Amount: \"))\n",
    "msg = None\n",
    "\n",
    "if income < 30000:\n",
    "    msg = 'Low Tax'\n",
    "elif income >= 30000 and income <= 100000:\n",
    "    msg = 'Medium Tax'\n",
    "else:\n",
    "    msg = 'High Tax'\n",
    "\n",
    "print(f'Your Income is {msg}')"
   ]
  },
  {
   "cell_type": "markdown",
   "id": "30f2d8bd-6fe2-4050-ac22-5d6e0457e012",
   "metadata": {},
   "source": [
    "9. #### VAT Calculation\n",
    "    If the item is marked as essential (is_essential = True), apply a VAT of 5%. Otherwise,\n",
    "apply a VAT of 12%. Display the final price."
   ]
  },
  {
   "cell_type": "code",
   "execution_count": 53,
   "id": "f40f5f2b-5a6f-449a-a70f-7a793239743e",
   "metadata": {},
   "outputs": [
    {
     "name": "stdin",
     "output_type": "stream",
     "text": [
      "Enter the item price: $ 50000\n",
      "Is the item essential? (y/n):  n\n"
     ]
    },
    {
     "name": "stdout",
     "output_type": "stream",
     "text": [
      "\n",
      "    Item Price:                     $50000.0\n",
      "    VAT Rate:                       12%\n",
      "    VAT Amount:                     $6000.0\n",
      "    Final Price:                    $50000.12\n",
      "\n"
     ]
    }
   ],
   "source": [
    "price = float(input(\"Enter the item price: $\"))\n",
    "is_essential = input(\"Is the item essential? (y/n): \").lower()\n",
    "\n",
    "if is_essential == \"y\":\n",
    "    vat = 0.05 \n",
    "else:\n",
    "    vat = 0.12\n",
    "\n",
    "vat_amount = price * vat\n",
    "final_price = price + vat\n",
    "\n",
    "print(f'''\n",
    "    Item Price:                     ${round(price, 2)}\n",
    "    VAT Rate:                       {int(vat * 100)}%\n",
    "    VAT Amount:                     ${round(vat_amount, 2)}\n",
    "    Final Price:                    ${round(final_price, 2)}\n",
    "''')\n"
   ]
  },
  {
   "cell_type": "markdown",
   "id": "4fb9a077-cee6-4bb3-bd14-9279f34b3094",
   "metadata": {},
   "source": [
    "10. #### Tax-Free Day\n",
    "    If today is a tax-free day (tax_free = True), display the original price. Otherwise, add a\n",
    "7% tax."
   ]
  },
  {
   "cell_type": "code",
   "execution_count": 57,
   "id": "5d0a065f-f6e7-43f6-ad5a-9ca39c9c378d",
   "metadata": {},
   "outputs": [
    {
     "name": "stdin",
     "output_type": "stream",
     "text": [
      "Enter the item price: $ 3004\n",
      "Is today tax free day? (y/n):  n\n"
     ]
    },
    {
     "name": "stdout",
     "output_type": "stream",
     "text": [
      "\n",
      "    Item Price:                     $3004.0\n",
      "    Tax Rate:                       7%\n",
      "    Tax Amount:                     $210.28\n",
      "    Final Price:                    $3004.07\n",
      "\n"
     ]
    }
   ],
   "source": [
    "price = float(input(\"Enter the item price: $\"))\n",
    "day = input(\"Is today tax free day? (y/n): \").lower()\n",
    "\n",
    "if day == \"y\":\n",
    "    tax = 0 \n",
    "else:\n",
    "    tax = 0.07\n",
    "\n",
    "tax_amount = price * tax\n",
    "final_price = price + tax\n",
    "\n",
    "print(f'''\n",
    "    Item Price:                     ${round(price, 2)}\n",
    "    Tax Rate:                       {int(tax * 100)}%\n",
    "    Tax Amount:                     ${round(tax_amount, 2)}\n",
    "    Final Price:                    ${round(final_price, 2)}\n",
    "''')\n"
   ]
  },
  {
   "cell_type": "markdown",
   "id": "c0e79b4a-f71c-4b8e-b48f-6ac088249147",
   "metadata": {
    "jp-MarkdownHeadingCollapsed": true
   },
   "source": [
    "### C- Shopping and Billing"
   ]
  },
  {
   "cell_type": "markdown",
   "id": "794e091b-f14f-4585-8d4f-a4c925aaf53d",
   "metadata": {},
   "source": [
    "11. #### Free Shipping\n",
    "    If the total purchase amount is more than 50, offer free shipping; otherwise, charge 5\n",
    "for shipping. Display the total amount including shipping."
   ]
  },
  {
   "cell_type": "code",
   "execution_count": 61,
   "id": "d9dd9b84-c585-499c-9427-031e8ec2cf82",
   "metadata": {},
   "outputs": [
    {
     "name": "stdin",
     "output_type": "stream",
     "text": [
      "Enter the total purchase price: $ 500\n"
     ]
    },
    {
     "name": "stdout",
     "output_type": "stream",
     "text": [
      "\n",
      "    Item Price:                      $500.0\n",
      "    Shipping:                        0%\n",
      "    Ship Amount:                     $0.0\n",
      "    Final Price:                     $500.0\n",
      "\n"
     ]
    }
   ],
   "source": [
    "price = float(input(\"Enter the total purchase price: $\"))\n",
    "\n",
    "if price > 50:\n",
    "    ship = 0 \n",
    "else:\n",
    "    ship = 0.05\n",
    "\n",
    "shipping = price * ship\n",
    "final_price = price + shipping\n",
    "\n",
    "print(f'''\n",
    "    Item Price:                      ${round(price, 2)}\n",
    "    Shipping:                        {int(ship * 100)}%\n",
    "    Ship Amount:                     ${round(shipping, 2)}\n",
    "    Final Price:                     ${round(final_price, 2)}\n",
    "''')\n"
   ]
  },
  {
   "cell_type": "markdown",
   "id": "492928b6-f229-45ca-a5a3-c070a576cc53",
   "metadata": {},
   "source": [
    "12. #### Discount Code\n",
    "    If a customer enters the correct discount code (DISCOUNT10), apply a 10% discount.\n",
    "Otherwise, charge the full amount."
   ]
  },
  {
   "cell_type": "code",
   "execution_count": 1,
   "id": "a269601a-b813-489d-8a0b-f01b9767ee26",
   "metadata": {},
   "outputs": [
    {
     "name": "stdin",
     "output_type": "stream",
     "text": [
      "Enter the total purchase price: $ 3000\n",
      "Enter discount code DISCOUNT10\n"
     ]
    },
    {
     "name": "stdout",
     "output_type": "stream",
     "text": [
      "\n",
      "    Item Price:                      $3000.0\n",
      "    Shipping:                        10%\n",
      "    Ship Amount:                     $300.0\n",
      "    Final Price:                     $2700.0\n",
      "\n"
     ]
    }
   ],
   "source": [
    "price = float(input(\"Enter the total purchase price: $\"))\n",
    "code = input('Enter discount code')\n",
    "\n",
    "if code == 'DISCOUNT10':\n",
    "    discount = 0.1 \n",
    "else:\n",
    "    discount = 0\n",
    "\n",
    "dis_amount = price * discount\n",
    "final_price = price - dis_amount\n",
    "\n",
    "print(f'''\n",
    "    Item Price:                      ${round(price, 2)}\n",
    "    Shipping:                        {int(discount * 100)}%\n",
    "    Ship Amount:                     ${round(dis_amount, 2)}\n",
    "    Final Price:                     ${round(final_price, 2)}\n",
    "''')\n"
   ]
  },
  {
   "cell_type": "markdown",
   "id": "ce25598f-d516-40fc-9d9b-90e28d4dd788",
   "metadata": {},
   "source": [
    "13. #### Tiered Discounts\n",
    "    Apply discounts based on the total price:\n",
    "    - $0–$50: No discount.\n",
    "    - $50–$100: 10% discount.\n",
    "    - Over $100: 20% discount."
   ]
  },
  {
   "cell_type": "code",
   "execution_count": 3,
   "id": "1304564d-f7ef-4f36-8d2f-1eec8cb3d742",
   "metadata": {},
   "outputs": [
    {
     "name": "stdin",
     "output_type": "stream",
     "text": [
      "Enter the total purchase price: $ 50\n"
     ]
    },
    {
     "name": "stdout",
     "output_type": "stream",
     "text": [
      "\n",
      "    Item Price:                      $50.0\n",
      "    Shipping:                        0%\n",
      "    Ship Amount:                     $0.0\n",
      "    Final Price:                     $50.0\n",
      "\n"
     ]
    }
   ],
   "source": [
    "price = float(input(\"Enter the total purchase price: $\"))\n",
    "\n",
    "if price > 0 and price <= 50:\n",
    "    discount = 0\n",
    "elif price > 50 and price <= 100:\n",
    "    discount = 0.1\n",
    "else:\n",
    "    discount = 0.2\n",
    "\n",
    "dis_amount = price * discount\n",
    "final_price = price - dis_amount\n",
    "\n",
    "print(f'''\n",
    "    Item Price:                      ${round(price, 2)}\n",
    "    Shipping:                        {int(discount * 100)}%\n",
    "    Ship Amount:                     ${round(dis_amount, 2)}\n",
    "    Final Price:                     ${round(final_price, 2)}\n",
    "''')\n"
   ]
  },
  {
   "cell_type": "markdown",
   "id": "6c1ba493-ba75-46a6-870b-0143c4c948fe",
   "metadata": {},
   "source": [
    "14. #### Minimum Purchase Requirement\n",
    "    If the total amount is less than $20, display a message: &quot;Minimum purchase of 20 is\n",
    "required.&quot; Otherwise, display the total amount."
   ]
  },
  {
   "cell_type": "code",
   "execution_count": 5,
   "id": "9ee741f4-a639-46d5-9bb8-db511af7712e",
   "metadata": {},
   "outputs": [
    {
     "name": "stdin",
     "output_type": "stream",
     "text": [
      "Enter the total purchase price: $ 2\n"
     ]
    },
    {
     "name": "stdout",
     "output_type": "stream",
     "text": [
      "Minimum purchase of 20 is required.\n"
     ]
    }
   ],
   "source": [
    "price = float(input(\"Enter the total purchase price: $\"))\n",
    "\n",
    "if price < 20:\n",
    "    print('Minimum purchase of 20 is required.')\n",
    "else:\n",
    "    print(f'Item Price: ${round(price, 2)}')\n"
   ]
  },
  {
   "cell_type": "markdown",
   "id": "30f94598-5353-43ec-b569-3390e5ae87c5",
   "metadata": {},
   "source": [
    "15. #### Loyalty Points\n",
    "    If a customer is a loyal member (is_loyal = True), they earn double loyalty points for\n",
    "their purchase. Otherwise, they earn standard points."
   ]
  },
  {
   "cell_type": "code",
   "execution_count": 11,
   "id": "f1de5fba-fb16-4e28-8112-c2ca8bf722f2",
   "metadata": {},
   "outputs": [
    {
     "name": "stdin",
     "output_type": "stream",
     "text": [
      "Enter the total purchase price: $ 100\n",
      "You are a regular customer(y/n):  y\n"
     ]
    },
    {
     "name": "stdout",
     "output_type": "stream",
     "text": [
      "Loyalty points earned: 200\n"
     ]
    }
   ],
   "source": [
    "price = float(input(\"Enter the total purchase price: $\"))\n",
    "is_loyal = input('You are a regular customer(y/n): ').lower()\n",
    "standard_points = price\n",
    "if is_loyal == 'y':\n",
    "    point = int(2 * standard_points)\n",
    "else:\n",
    "    point = int(standard_points)\n",
    "print(f\"Loyalty points earned: {point}\")"
   ]
  },
  {
   "cell_type": "markdown",
   "id": "348b8b78-bbf2-444a-91fd-5e7ff754b8e3",
   "metadata": {
    "jp-MarkdownHeadingCollapsed": true
   },
   "source": [
    "### D- Travel and Tickets"
   ]
  },
  {
   "cell_type": "markdown",
   "id": "eedcd27b-35c5-4502-b06e-e51e47e58912",
   "metadata": {},
   "source": [
    "16. #### Travel Discount\n",
    "    If a person is traveling more than 500 miles, offer a 20% discount on ticket price.\n",
    "Otherwise, charge the full amount."
   ]
  },
  {
   "cell_type": "code",
   "execution_count": 45,
   "id": "93be5507-d282-47f9-8712-e533b5de5134",
   "metadata": {},
   "outputs": [
    {
     "name": "stdin",
     "output_type": "stream",
     "text": [
      "Enter how many miles you are travel 1000\n"
     ]
    },
    {
     "name": "stdout",
     "output_type": "stream",
     "text": [
      "\n",
      "    Ticket Price:                          $500\n",
      "    Discount:                              20%\n",
      "    Discount Amount:                       $100.0\n",
      "    Final Price:                           $400.0\n",
      "\n"
     ]
    }
   ],
   "source": [
    "travel = int(input('Enter how many miles you are travel'))\n",
    "ticket = 500\n",
    "\n",
    "if travel > 500:\n",
    "    discount = 0.2\n",
    "else:\n",
    "    discount = 0\n",
    "\n",
    "dis_amount = ticket*discount\n",
    "total = ticket-dis_amount\n",
    "\n",
    "print(f'''\n",
    "    Ticket Price:                          ${round(ticket, 2)}\n",
    "    Discount:                              {int(discount * 100)}%\n",
    "    Discount Amount:                       ${round(dis_amount, 2)}\n",
    "    Final Price:                           ${round(total, 2)}\n",
    "''')\n"
   ]
  },
  {
   "cell_type": "markdown",
   "id": "aeb5211c-8682-401f-b874-8f233c035eb6",
   "metadata": {},
   "source": [
    "17. #### Child or Senior Discount\n",
    "    If a passenger is under 12 or over 60 years old, apply a 15% discount on the ticket price.\n",
    "Otherwise, charge the full price."
   ]
  },
  {
   "cell_type": "code",
   "execution_count": 63,
   "id": "1b56d289-2315-4361-8416-b34576908d02",
   "metadata": {},
   "outputs": [
    {
     "name": "stdin",
     "output_type": "stream",
     "text": [
      "Enter your age:  60\n"
     ]
    },
    {
     "name": "stdout",
     "output_type": "stream",
     "text": [
      "\n",
      "    Ticket Price:                          $500\n",
      "    Discount:                              15%\n",
      "    Discount Amount:                       $75.0\n",
      "    Final Price:                           $425.0\n",
      "\n"
     ]
    }
   ],
   "source": [
    "age = int(input('Enter your age: '))\n",
    "ticket = 500\n",
    "\n",
    "if age > 12 and age < 60:\n",
    "    discount = 0\n",
    "else:\n",
    "    discount = 0.15\n",
    "\n",
    "dis_amount = ticket*discount\n",
    "total = ticket-dis_amount\n",
    "\n",
    "\n",
    "print(f'''\n",
    "    Ticket Price:                          ${round(ticket, 2)}\n",
    "    Discount:                              {int(discount * 100)}%\n",
    "    Discount Amount:                       ${round(dis_amount, 2)}\n",
    "    Final Price:                           ${round(total, 2)}\n",
    "''')\n"
   ]
  },
  {
   "cell_type": "markdown",
   "id": "7c96fe84-f668-4d47-9d5d-659c57a75435",
   "metadata": {},
   "source": [
    "18. #### Ticket Type Pricing\n",
    "    If the ticket is for a weekend (is_weekend = True), add a 10% surcharge. Otherwise,\n",
    "charge the standard price."
   ]
  },
  {
   "cell_type": "code",
   "execution_count": 67,
   "id": "21507e58-8e45-4681-887a-4a22aad336cf",
   "metadata": {},
   "outputs": [
    {
     "name": "stdin",
     "output_type": "stream",
     "text": [
      "Enter Ticket Price 750\n"
     ]
    },
    {
     "name": "stdout",
     "output_type": "stream",
     "text": [
      "\n",
      "    Today:                                 SUNDAY\n",
      "    Ticket Price:                          $750\n",
      "    Discount:                              15%\n",
      "    Discount Amount:                       $75.0\n",
      "    Final Price:                           $425.0\n",
      "\n"
     ]
    }
   ],
   "source": [
    "import datetime\n",
    "is_holiday = datetime.datetime.now().strftime(\"%A\").lower()\n",
    "ticket = int(input(\"Enter Ticket Price\"))\n",
    "holiday_dis = 0.1\n",
    "no_holi_dis = 0\n",
    "dis = None\n",
    "after_dis = None\n",
    "\n",
    "if is_holiday == \"sunday\" or is_holiday == \"saturday\":\n",
    "    dis = \"10%\"\n",
    "    total_dis = holiday_dis*amount\n",
    "    after_dis = amount - total_dis\n",
    "    \n",
    "else:\n",
    "    dis = \"0%\"\n",
    "    total_dis = no_holi_dis*amount\n",
    "    after_dis = amount - total_dis\n",
    "    \n",
    "print(f'''\n",
    "    Today:                                 {is_holiday.upper()}\n",
    "    Ticket Price:                          ${round(ticket, 2)}\n",
    "    Discount:                              {int(discount * 100)}%\n",
    "    Discount Amount:                       ${round(dis_amount, 2)}\n",
    "    Final Price:                           ${round(total, 2)}\n",
    "''')\n"
   ]
  },
  {
   "cell_type": "markdown",
   "id": "98c45d77-618a-40d2-8277-a6a56fefc976",
   "metadata": {},
   "source": [
    "19. #### Baggage Fee\n",
    "    If the total baggage weight is over 20kg, charge $10 per extra kilogram. Otherwise, no\n",
    "extra fee."
   ]
  },
  {
   "cell_type": "code",
   "execution_count": 73,
   "id": "517bedfa-9abc-4fe5-be8c-481e638a3320",
   "metadata": {},
   "outputs": [
    {
     "name": "stdin",
     "output_type": "stream",
     "text": [
      "Enter baggage weight in kg:  50\n"
     ]
    },
    {
     "name": "stdout",
     "output_type": "stream",
     "text": [
      "\n",
      "    Laggage:                               50KG\n",
      "    Ticket Price:                          $500\n",
      "    Charges:                               10%\n",
      "    Charges Amount:                        $50.0\n",
      "    Final Price:                           $550.0\n",
      "\n"
     ]
    }
   ],
   "source": [
    "weight = int(input('Enter baggage weight in kg: '))\n",
    "ticket = 500\n",
    "\n",
    "if weight > 20:\n",
    "    charges = 0.1\n",
    "else:\n",
    "    charges = 0\n",
    "\n",
    "dis_amount = ticket*charges\n",
    "total = ticket+dis_amount\n",
    "\n",
    "\n",
    "print(f'''\n",
    "    Laggage:                               {round(weight, 2)}KG\n",
    "    Ticket Price:                          ${round(ticket, 2)}\n",
    "    Charges:                               {int(charges * 100)}%\n",
    "    Charges Amount:                        ${round(dis_amount, 2)}\n",
    "    Final Price:                           ${round(total, 2)}\n",
    "''')\n"
   ]
  },
  {
   "cell_type": "markdown",
   "id": "10629017-3267-4f76-aae8-574d9cd3bca7",
   "metadata": {},
   "source": [
    "20. #### Early Bird Discount\n",
    "    If a ticket is booked more than 30 days in advance, apply a 10% discount. Otherwise,\n",
    "charge the full price."
   ]
  },
  {
   "cell_type": "code",
   "execution_count": 75,
   "id": "563ef52e-86f8-492c-8865-1aed97c59a6d",
   "metadata": {},
   "outputs": [
    {
     "name": "stdin",
     "output_type": "stream",
     "text": [
      "Enter the ticket price:  800\n",
      "How many days in advance are you booking the ticket?  31\n"
     ]
    },
    {
     "name": "stdout",
     "output_type": "stream",
     "text": [
      "\n",
      "Booking Summary\n",
      "\n",
      "Days in Advance:                   31\n",
      "Original Ticket Price:             $800.00\n",
      "Discount Applied:                  $80.00\n",
      "Final Price:                       $720.00\n",
      "\n"
     ]
    }
   ],
   "source": [
    "ticket = float(input(\"Enter the ticket price: \"))\n",
    "days_advance = int(input(\"How many days in advance are you booking the ticket? \"))\n",
    "\n",
    "if days_advance > 30:\n",
    "    discount = 0.10\n",
    "    discount_amount = ticket * discount\n",
    "    final_price = ticket - discount_amount\n",
    "else:\n",
    "    discount_amount = 0\n",
    "    final_price = ticket\n",
    "\n",
    "print(f'''\n",
    "Booking Summary\n",
    "\n",
    "Days in Advance:                   {days_advance}\n",
    "Original Ticket Price:             ${ticket:.2f}\n",
    "Discount Applied:                  ${discount_amount:.2f}\n",
    "Final Price:                       ${final_price:.2f}\n",
    "''')\n"
   ]
  },
  {
   "cell_type": "markdown",
   "id": "c5416e81-0716-4504-ae35-bdbdee167eba",
   "metadata": {
    "jp-MarkdownHeadingCollapsed": true
   },
   "source": [
    "### E- Grades and Performance"
   ]
  },
  {
   "cell_type": "markdown",
   "id": "e88db87f-2e1e-42d9-a517-f50e0447f3c1",
   "metadata": {},
   "source": [
    "21. #### Pass or Fail\n",
    "    If a student scores 40 or more, print &quot;Pass&quot;. Otherwise, print &quot;Fail&quot;."
   ]
  },
  {
   "cell_type": "code",
   "execution_count": 77,
   "id": "9bda3a1d-a100-4d3a-b7cf-82d7a3fe4abb",
   "metadata": {},
   "outputs": [
    {
     "name": "stdin",
     "output_type": "stream",
     "text": [
      "Enter the marks:  40\n"
     ]
    },
    {
     "name": "stdout",
     "output_type": "stream",
     "text": [
      "You are Pass\n"
     ]
    }
   ],
   "source": [
    "score = float(input(\"Enter the marks: \"))\n",
    "\n",
    "if score >= 40 and score <= 100:\n",
    "    msg = 'You are Pass'\n",
    "elif score > 0 and score < 40:\n",
    "    msg = 'You are Fail'\n",
    "else:\n",
    "    msg = 'Enter Correct Marks'  \n",
    "    \n",
    "print(msg)\n"
   ]
  },
  {
   "cell_type": "markdown",
   "id": "2a8da02b-3c2c-47e4-bfb1-f6096a51ddf2",
   "metadata": {},
   "source": [
    "22. #### Grade Assignment\n",
    "    Based on a student&#39;s score, assign grades:\n",
    "    - 90 and above: &quot;A&quot;\n",
    "    - 75–89: &quot;B&quot;\n",
    "    - 50–74: &quot;C&quot;\n",
    "    - Below 50: &quot;F&quot;"
   ]
  },
  {
   "cell_type": "code",
   "execution_count": 79,
   "id": "3194071f-2988-4f45-8226-ba294dbdaa37",
   "metadata": {},
   "outputs": [
    {
     "name": "stdin",
     "output_type": "stream",
     "text": [
      "Enter the marks:  72\n"
     ]
    },
    {
     "name": "stdout",
     "output_type": "stream",
     "text": [
      "The student's grade is: C\n"
     ]
    }
   ],
   "source": [
    "score = float(input(\"Enter the marks: \"))\n",
    "\n",
    "if score >= 90:\n",
    "    grade = \"A\"\n",
    "elif 75 <= score < 90:\n",
    "    grade = \"B\"\n",
    "elif 50 <= score < 75:\n",
    "    grade = \"C\"\n",
    "else:\n",
    "    grade = \"F\"\n",
    "\n",
    "print(f\"The student's grade is: {grade}\")\n"
   ]
  },
  {
   "cell_type": "markdown",
   "id": "69c12190-08f7-4685-aef7-e715728bb579",
   "metadata": {},
   "source": [
    "23. #### Bonus Marks\n",
    "    If a student completes all assignments, add 5 bonus marks to their score. Otherwise, no\n",
    "bonus marks."
   ]
  },
  {
   "cell_type": "code",
   "execution_count": 85,
   "id": "eaaf1607-fd57-4038-8bf2-dae39ce05610",
   "metadata": {},
   "outputs": [
    {
     "name": "stdin",
     "output_type": "stream",
     "text": [
      "Enter the marks:  72\n",
      "Did the student complete all assignments? (y/n):  n\n"
     ]
    },
    {
     "name": "stdout",
     "output_type": "stream",
     "text": [
      "The student's final score is: 72.0\n"
     ]
    }
   ],
   "source": [
    "score = float(input(\"Enter the marks: \"))\n",
    "completed_assignments = input(\"Did the student complete all assignments? (y/n): \").lower()\n",
    "\n",
    "if completed_assignments == 'y':\n",
    "    score += 5\n",
    "    \n",
    "print(f\"The student's final score is: {score}\")\n"
   ]
  },
  {
   "cell_type": "markdown",
   "id": "5ce9da25-7d88-49af-a2cc-0b524689f00f",
   "metadata": {},
   "source": [
    "24. #### Attendance Eligibility\n",
    "    If a student&#39;s attendance is 75% or more, they are eligible to take the exam. Otherwise,\n",
    "they are not."
   ]
  },
  {
   "cell_type": "code",
   "execution_count": 87,
   "id": "3f154f63-337e-4717-995e-6d97f7e556a9",
   "metadata": {},
   "outputs": [
    {
     "name": "stdin",
     "output_type": "stream",
     "text": [
      "Enter the number of classes attended:  23\n"
     ]
    },
    {
     "name": "stdout",
     "output_type": "stream",
     "text": [
      "The student's attendance is: 69.70%\n",
      "The student is not eligible to take the exam.\n"
     ]
    }
   ],
   "source": [
    "total = 33\n",
    "attended = int(input(\"Enter the number of classes attended: \"))\n",
    "\n",
    "percentage = (attended / total) * 100\n",
    "\n",
    "if percentage >= 75:\n",
    "    eligibility = \"eligible\"\n",
    "else:\n",
    "    eligibility = \"not eligible\"\n",
    "\n",
    "print(f\"The student's attendance is: {percentage:.2f}%\")\n",
    "print(f\"The student is {eligibility} to take the exam.\")\n"
   ]
  },
  {
   "cell_type": "markdown",
   "id": "f95dc063-72a2-4c38-864e-1cc382e9feec",
   "metadata": {},
   "source": [
    "25. #### Scholarship Eligibility\n",
    "    If a student&#39;s grade is &quot;A&quot; and their annual family income is below $30,000, they are\n",
    "eligible for a scholarship. Otherwise, they are not."
   ]
  },
  {
   "cell_type": "code",
   "execution_count": 89,
   "id": "eb5bc5c6-72f9-4cd6-91bb-dfd45b0fbbf6",
   "metadata": {},
   "outputs": [
    {
     "name": "stdin",
     "output_type": "stream",
     "text": [
      "Enter the student's grade:  a\n",
      "Enter the student's annual family income: $ 7220\n"
     ]
    },
    {
     "name": "stdout",
     "output_type": "stream",
     "text": [
      "The student is eligible for a scholarship.\n"
     ]
    }
   ],
   "source": [
    "grade = input(\"Enter the student's grade: \").upper() \n",
    "family_income = float(input(\"Enter the student's annual family income: $\"))\n",
    "\n",
    "if grade == \"A\" and family_income < 30000:\n",
    "    eligibility = \"eligible\"\n",
    "else:\n",
    "    eligibility = \"not eligible\"\n",
    "\n",
    "print(f\"The student is {eligibility} for a scholarship.\")\n"
   ]
  }
 ],
 "metadata": {
  "kernelspec": {
   "display_name": "Python 3 (ipykernel)",
   "language": "python",
   "name": "python3"
  },
  "language_info": {
   "codemirror_mode": {
    "name": "ipython",
    "version": 3
   },
   "file_extension": ".py",
   "mimetype": "text/x-python",
   "name": "python",
   "nbconvert_exporter": "python",
   "pygments_lexer": "ipython3",
   "version": "3.12.7"
  }
 },
 "nbformat": 4,
 "nbformat_minor": 5
}

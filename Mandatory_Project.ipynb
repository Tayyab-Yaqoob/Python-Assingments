{
 "cells": [
  {
   "cell_type": "code",
   "execution_count": 37,
   "id": "6ed0db1d-62e9-4acb-a2f6-d00bdab2bdf6",
   "metadata": {},
   "outputs": [],
   "source": [
    "import json\n",
    "acc = []\n"
   ]
  },
  {
   "cell_type": "code",
   "execution_count": 13,
   "id": "d254fa71-cc97-4b5b-9735-88029d8a2589",
   "metadata": {},
   "outputs": [],
   "source": [
    "def loadAccountFile():\n",
    "    global acc\n",
    "    try:\n",
    "        with open('accounts.txt', 'r') as file:\n",
    "            acc = json.load(file)\n",
    "    except FileNotFoundError:\n",
    "        print(\"No existing account file found. A new file will be created.\")\n",
    "        acc = []\n",
    "    except json.JSONDecodeError:\n",
    "        print(\"Error reading account file. The file might be corrupted.\")\n",
    "        acc = []\n",
    "    except Exception as e:\n",
    "        print(f\"Unexpected error occurred while loading the file: {e}\")\n",
    "        acc = []\n"
   ]
  },
  {
   "cell_type": "code",
   "execution_count": 15,
   "id": "a2aeb0e1-e8d6-4f4f-acd6-9cb4fdcc0ecc",
   "metadata": {},
   "outputs": [],
   "source": [
    "def saveFile():\n",
    "    try:\n",
    "        with open('accounts.txt', 'w') as file:\n",
    "            json.dump(acc, file)\n",
    "    except Exception as e:\n",
    "        print(f\"Error saving the account file: {e}\")\n"
   ]
  },
  {
   "cell_type": "code",
   "execution_count": 17,
   "id": "5214f773-9d34-4db0-94df-ef63f20a32aa",
   "metadata": {},
   "outputs": [],
   "source": [
    "def createAccount(name, number, pin, balance=0):\n",
    "    number = str(number)\n",
    "    global acc \n",
    "    try:\n",
    "        if any(account['number'] == number for account in acc):\n",
    "            print(f'{name}, your account already exists using this number.')\n",
    "        else:\n",
    "            dis = {\n",
    "                'name': name,\n",
    "                'number': number,\n",
    "                'pin': pin,\n",
    "                'balance': balance,\n",
    "                'transaction': []\n",
    "            }\n",
    "            acc.append(dis)\n",
    "            print(f'{name}, your account has been created using this number.')\n",
    "            saveFile()\n",
    "    except Exception as e:\n",
    "        print(f\"Error creating account: {e}\")\n"
   ]
  },
  {
   "cell_type": "code",
   "execution_count": 19,
   "id": "89b12b37-7872-444d-9081-fc1d89893014",
   "metadata": {},
   "outputs": [],
   "source": [
    "def depositMoney(number, pin, amount):\n",
    "    global acc\n",
    "    number = str(number)\n",
    "    try:\n",
    "        for account in acc:\n",
    "            if account['number'] == number:\n",
    "                if account['pin'] == pin:\n",
    "                    if amount > 0:\n",
    "                        account['balance'] += amount\n",
    "                        account['transaction'].append({\"type\": \"deposit\", \"amount\": amount})\n",
    "                        print(f\"Deposit successful! New balance: {account['balance']}\")\n",
    "                        saveFile()\n",
    "                    else:\n",
    "                        print(\"Deposit amount must be greater than 0.\")\n",
    "                    return\n",
    "                else:\n",
    "                    print(\"Invalid PIN.\")\n",
    "                    return\n",
    "        print(\"Account not found.\")\n",
    "    except Exception as e:\n",
    "        print(f\"Error during deposit: {e}\")\n"
   ]
  },
  {
   "cell_type": "code",
   "execution_count": 21,
   "id": "740a079e-8aa2-4018-9010-58b7ac622cd1",
   "metadata": {},
   "outputs": [],
   "source": [
    "def withdrawMoney(number, pin, amount):\n",
    "    global acc \n",
    "    number = str(number)\n",
    "    try:\n",
    "        for account in acc:\n",
    "            if account['number'] == number:\n",
    "                if account['pin'] == pin:\n",
    "                    if amount > 0:\n",
    "                        if account['balance'] < amount:\n",
    "                            print(\"Insufficient balance.\")\n",
    "                        else:\n",
    "                            account['balance'] -= amount\n",
    "                            account['transaction'].append({\"type\": \"withdraw\", \"amount\": amount})\n",
    "                            print(f\"{amount} withdrawn successfully! Remaining balance: {account['balance']}\")\n",
    "                            saveFile()\n",
    "                    else:\n",
    "                        print(\"Withdrawal amount must be greater than 0.\")\n",
    "                    return\n",
    "                else:\n",
    "                    print(\"Invalid PIN.\")\n",
    "                    return\n",
    "        print(\"Account not found.\")\n",
    "    except Exception as e:\n",
    "        print(f\"Error during withdrawal: {e}\")\n"
   ]
  },
  {
   "cell_type": "code",
   "execution_count": 23,
   "id": "e16f3321-7dea-4612-808a-b32b2e5d575f",
   "metadata": {},
   "outputs": [],
   "source": [
    "def checkBalance(number, pin):\n",
    "    global acc \n",
    "    number = str(number)\n",
    "    try:\n",
    "        for account in acc:\n",
    "            if account['number'] == number:\n",
    "                if account['pin'] == pin:\n",
    "                    print(f'Balance: {account[\"balance\"]}')\n",
    "                    return\n",
    "                else:\n",
    "                    print(\"Invalid PIN.\")\n",
    "                    return\n",
    "        print(\"Account not found.\")\n",
    "    except Exception as e:\n",
    "        print(f\"Error checking balance: {e}\")\n"
   ]
  },
  {
   "cell_type": "code",
   "execution_count": 33,
   "id": "16881e3b-d191-4624-9d19-a1eb659ef50b",
   "metadata": {},
   "outputs": [],
   "source": [
    "def printStatement(number, pin):\n",
    "    global acc\n",
    "    number = str(number)\n",
    "    try:\n",
    "        for account in acc:\n",
    "            if account['number'] == number:\n",
    "                if account['pin'] == pin:\n",
    "                    print(f\"\"\"Account Statement for {account['name']}\n",
    "--------------------------------------------------\"\"\")\n",
    "                    for transaction in account['transaction']:\n",
    "                        if transaction['type'] == \"deposit\":\n",
    "                            print(f\"Deposit: {transaction['amount']}\")\n",
    "                        elif transaction['type'] == \"withdraw\":\n",
    "                            print(f\"Withdraw: {transaction['amount']}\")\n",
    "                    print(f\"\"\"--------------------------------------------------\n",
    "Balance: {account['balance']}\"\"\")\n",
    "                    return\n",
    "                else:\n",
    "                    print(\"Invalid PIN.\")\n",
    "                    return\n",
    "        print(\"Account not found.\")\n",
    "    except Exception as e:\n",
    "        print(f\"Error printing statement: {e}\")\n"
   ]
  },
  {
   "cell_type": "code",
   "execution_count": 39,
   "id": "56e20188-36e2-4f79-bd63-d56d836acb94",
   "metadata": {},
   "outputs": [
    {
     "name": "stdout",
     "output_type": "stream",
     "text": [
      "Muhammad Tayyab, your account has been created using this number.\n",
      "Deposit successful! New balance: 2000\n",
      "1000 withdrawn successfully! Remaining balance: 1000\n",
      "Balance: 1000\n",
      "Account Statement for Muhammad Tayyab\n",
      "--------------------------------------------------\n",
      "Deposit: 2000\n",
      "Withdraw: 1000\n",
      "--------------------------------------------------\n",
      "Balance: 1000\n"
     ]
    }
   ],
   "source": [
    "createAccount('Muhammad Tayyab','03221835248',2345)\n",
    "depositMoney('03221835248', 2345 , 2000)\n",
    "withdrawMoney('03221835248', 2345 , 1000)\n",
    "checkBalance('03221835248', 2345)\n",
    "printStatement('03221835248', 2345)"
   ]
  },
  {
   "cell_type": "code",
   "execution_count": null,
   "id": "9dea1558-3862-46bb-b7b4-f649b81ce6db",
   "metadata": {},
   "outputs": [],
   "source": []
  }
 ],
 "metadata": {
  "kernelspec": {
   "display_name": "Python 3 (ipykernel)",
   "language": "python",
   "name": "python3"
  },
  "language_info": {
   "codemirror_mode": {
    "name": "ipython",
    "version": 3
   },
   "file_extension": ".py",
   "mimetype": "text/x-python",
   "name": "python",
   "nbconvert_exporter": "python",
   "pygments_lexer": "ipython3",
   "version": "3.12.7"
  }
 },
 "nbformat": 4,
 "nbformat_minor": 5
}

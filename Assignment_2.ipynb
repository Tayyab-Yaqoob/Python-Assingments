{
 "cells": [
  {
   "cell_type": "markdown",
   "id": "e56a9355-74a8-42a0-9424-6b3bd773b8ff",
   "metadata": {},
   "source": [
    "1) Area of a Rectangle:\n",
    "\n",
    "Write a Python program to calculate the area of a rectangle. Use the formula:\n",
    "\n",
    "### Area = length × width\n",
    "\n",
    "Take length and width as inputs from the user."
   ]
  },
  {
   "cell_type": "code",
   "execution_count": 10,
   "id": "9b872702-e843-4fbb-afc6-acba8103f3b7",
   "metadata": {},
   "outputs": [
    {
     "name": "stdin",
     "output_type": "stream",
     "text": [
      "Enter The Length 10\n",
      "Enter The width 20\n"
     ]
    },
    {
     "name": "stdout",
     "output_type": "stream",
     "text": [
      "200\n"
     ]
    }
   ],
   "source": [
    "length = int(input('Enter The Length'))\n",
    "width = int(input('Enter The width'))\n",
    "\n",
    "area = length*width\n",
    "\n",
    "print(area)"
   ]
  },
  {
   "cell_type": "markdown",
   "id": "676152df-1911-404d-983d-36b9ce9b4316",
   "metadata": {},
   "source": [
    "1) Circumference of a Circle:\n",
    "\n",
    "Write a Python program to calculate the circumference of a circle. Use the formula:\n",
    "\n",
    "### Circumference = 2πr\n",
    "\n",
    "Take the radius r as input from the user."
   ]
  },
  {
   "cell_type": "code",
   "execution_count": 22,
   "id": "308705a4-adc6-417b-86f4-c96f77cac439",
   "metadata": {},
   "outputs": [
    {
     "name": "stdin",
     "output_type": "stream",
     "text": [
      "Enter the Radius 10\n"
     ]
    },
    {
     "name": "stdout",
     "output_type": "stream",
     "text": [
      "62.832\n"
     ]
    }
   ],
   "source": [
    "from math import pi\n",
    "rad = int(input('Enter the Radius'))\n",
    "\n",
    "circum = round(2*pi*rad,3)\n",
    "\n",
    "print(circum)"
   ]
  },
  {
   "cell_type": "markdown",
   "id": "9d0168a9-b6f5-493b-ad96-4662d0c15cf6",
   "metadata": {},
   "source": [
    "3) Simple Interest:\n",
    "\n",
    "Write a Python program to calculate the simple interest. Use the formula:\n",
    "\n",
    "### Simple Interest = Principal × Rate × Time\n",
    "\n",
    "Take Principal, Rate, and Time as inputs from the user."
   ]
  },
  {
   "cell_type": "code",
   "execution_count": 25,
   "id": "893d1ac6-1ea3-4cd1-8875-91742f1340f1",
   "metadata": {},
   "outputs": [
    {
     "name": "stdin",
     "output_type": "stream",
     "text": [
      "Enter The principal 2\n",
      "Enter The rate 1000\n",
      "Enter The time 7\n"
     ]
    },
    {
     "name": "stdout",
     "output_type": "stream",
     "text": [
      "14000\n"
     ]
    }
   ],
   "source": [
    "principal = int(input('Enter The principal'))\n",
    "rate = int(input('Enter The rate'))\n",
    "time = int(input('Enter The time'))\n",
    "\n",
    "\n",
    "simp_int = principal*rate*time\n",
    "\n",
    "print(simp_int)"
   ]
  },
  {
   "cell_type": "markdown",
   "id": "36cd9b77-bae9-4c10-bfd5-acb444dc5301",
   "metadata": {},
   "source": [
    "4) Speed of an Object:\n",
    "\n",
    "Write a Python program to calculate the speed of an object. Use the formula:\n",
    "\n",
    "### Speed = Distance / Time\n",
    "\n",
    "Take Distance and Time as inputs from the user."
   ]
  },
  {
   "cell_type": "code",
   "execution_count": 28,
   "id": "5890c48e-c0a4-48de-802e-38539330afb9",
   "metadata": {},
   "outputs": [
    {
     "name": "stdin",
     "output_type": "stream",
     "text": [
      "Enter The distance 100\n",
      "Enter The time 60\n"
     ]
    },
    {
     "name": "stdout",
     "output_type": "stream",
     "text": [
      "1.67\n"
     ]
    }
   ],
   "source": [
    "dist = int(input('Enter The distance'))\n",
    "time = int(input('Enter The time'))\n",
    "\n",
    "\n",
    "speed = round(dist/time,2)\n",
    "\n",
    "print(speed)"
   ]
  },
  {
   "cell_type": "markdown",
   "id": "35d7e781-a35d-4cb5-afee-ea432e4b568d",
   "metadata": {},
   "source": [
    "5) BMI Calculator:\n",
    "\n",
    "Write a Python program to calculate the Body Mass Index (BMI). Use the formula:\n",
    "\n",
    "### BMI = weight(kg)/(height(m))^2\n",
    "\n",
    "Take Weight (in kilograms) and Height (in meters) as inputs from the user."
   ]
  },
  {
   "cell_type": "code",
   "execution_count": 35,
   "id": "d7ccbccb-de57-4e38-936d-6a197fb62b3b",
   "metadata": {},
   "outputs": [
    {
     "name": "stdin",
     "output_type": "stream",
     "text": [
      "Enter The weight in kg 78\n",
      "Enter The height in meter 1.829\n"
     ]
    },
    {
     "name": "stdout",
     "output_type": "stream",
     "text": [
      "42.65\n"
     ]
    }
   ],
   "source": [
    "weight = float(input('Enter The weight in kg'))\n",
    "height = float(input('Enter The height in meter'))\n",
    "\n",
    "\n",
    "BMI = round(weight/height,2)\n",
    "\n",
    "print(BMI)"
   ]
  },
  {
   "cell_type": "markdown",
   "id": "0eb38c8e-63bb-4c09-bdf7-d9dba0a449cb",
   "metadata": {},
   "source": [
    "6) Force Using Newton's Second Law:\n",
    "\n",
    "Write a Python program to calculate the force on an object. Use the formula:\n",
    "\n",
    "### F = ma\n",
    "\n",
    "Take m (mass in kilograms) and a (acceleration in meters/second^2) as inputs from the\n",
    "user."
   ]
  },
  {
   "cell_type": "code",
   "execution_count": 38,
   "id": "c512a2ac-3f8e-4adc-b821-c02a57e7cf32",
   "metadata": {},
   "outputs": [
    {
     "name": "stdin",
     "output_type": "stream",
     "text": [
      "Enter The mass in kg 10\n",
      "Enter The acceleration in meter/second^2 60\n"
     ]
    },
    {
     "name": "stdout",
     "output_type": "stream",
     "text": [
      "600.0\n"
     ]
    }
   ],
   "source": [
    "mass = float(input('Enter The mass in kg'))\n",
    "accele = float(input('Enter The acceleration in meter/second^2'))\n",
    "\n",
    "\n",
    "force = round(mass*accele,2)\n",
    "\n",
    "print(force)"
   ]
  },
  {
   "cell_type": "markdown",
   "id": "3e9d4b3a-bc00-4d0e-8b3e-6a3e305ba706",
   "metadata": {},
   "source": [
    "7) Compound Interest:\n",
    "\n",
    "Write a Python program to calculate compound interest. Use the formula:\n",
    "\n",
    "### A = P*(1+(r/n))^(n-t)\n",
    "\n",
    "Where:\n",
    "\n",
    "- A= total amount\n",
    "- P = principal amount\n",
    "- r = annual interest rate (decimal)\n",
    "- n = number of times interest is compounded per year\n",
    "- t = time in years\n",
    "\n",
    "Take P, r, n, and t as inputs from the user."
   ]
  },
  {
   "cell_type": "code",
   "execution_count": 49,
   "id": "a6cbd018-0584-42cd-bd93-bb8c3d4fa238",
   "metadata": {},
   "outputs": [
    {
     "name": "stdin",
     "output_type": "stream",
     "text": [
      "Enter the principal amount 1000\n",
      "Enter the annual interst rate(decimal) .1\n",
      "Enter the number of times interest is compounded per year 1\n",
      "Enter the time in years 5\n"
     ]
    },
    {
     "name": "stdout",
     "output_type": "stream",
     "text": [
      "683.013\n"
     ]
    }
   ],
   "source": [
    "P = float(input('Enter the principal amount'))\n",
    "r = float(input('Enter the annual interst rate(decimal)'))\n",
    "n = float(input('Enter the number of times interest is compounded per year'))\n",
    "t = float(input('Enter the time in years'))\n",
    "\n",
    "A = P*(1+(r/n))**(n-t)\n",
    "\n",
    "print(round(A,3))"
   ]
  },
  {
   "cell_type": "markdown",
   "id": "7116db19-3ee8-424e-bb02-88b99b363db7",
   "metadata": {},
   "source": [
    "8) Perimeter of a Triangle:\n",
    "\n",
    "Write a Python program to calculate the perimeter of a triangle. Use the formula:\n",
    "\n",
    "### Perimeter = a + b + c\n",
    "\n",
    "Take a, b, and c (lengths of the three sides) as inputs from the user."
   ]
  },
  {
   "cell_type": "code",
   "execution_count": 52,
   "id": "b93db6b8-08ff-43cf-8e53-352fcfea4361",
   "metadata": {},
   "outputs": [
    {
     "name": "stdin",
     "output_type": "stream",
     "text": [
      "Enter the value of first side 10\n",
      "Enter the value of second side 10\n",
      "Enter the value of third side 10\n"
     ]
    },
    {
     "name": "stdout",
     "output_type": "stream",
     "text": [
      "30\n"
     ]
    }
   ],
   "source": [
    "a = int(input('Enter the value of first side'))\n",
    "b = int(input('Enter the value of second side'))\n",
    "c = int(input('Enter the value of third side'))\n",
    "\n",
    "permiter = a+b+c\n",
    "\n",
    "print(permiter)"
   ]
  },
  {
   "cell_type": "markdown",
   "id": "8da60409-7882-48fe-a93c-bc91ff464943",
   "metadata": {},
   "source": [
    "9) Volume of a Sphere:\n",
    "\n",
    "Write a Python program to calculate the volume of a sphere. Use the formula:\n",
    "\n",
    "### volume = (4/3)Pi*r**3\n",
    "\n",
    "Take r (radius) as input from the user."
   ]
  },
  {
   "cell_type": "code",
   "execution_count": 10,
   "id": "4618717b-96e2-4f2a-9779-1f23b0d610e4",
   "metadata": {},
   "outputs": [
    {
     "name": "stdin",
     "output_type": "stream",
     "text": [
      "Enter the Radius 10\n"
     ]
    },
    {
     "name": "stdout",
     "output_type": "stream",
     "text": [
      "4188.79\n"
     ]
    }
   ],
   "source": [
    "from math import pi\n",
    "rad = int(input('Enter the Radius'))\n",
    "\n",
    "volume = round(((4/3) * pi * r**3), 3)\n",
    "\n",
    "print(volume)"
   ]
  },
  {
   "cell_type": "markdown",
   "id": "186788f6-539c-4905-a51a-a41a9222e6aa",
   "metadata": {},
   "source": [
    "Write a Python program to calculate the kinetic energy of an object. Use the formula:\n",
    "\n",
    "### KE = (1/2)*m*v**2\n",
    "\n",
    "Take m (mass in kilograms) and v (velocity in meters/second) as inputs from the user."
   ]
  },
  {
   "cell_type": "code",
   "execution_count": 19,
   "id": "401187ee-c5ae-49e5-8f2f-4ececf050b18",
   "metadata": {},
   "outputs": [
    {
     "name": "stdin",
     "output_type": "stream",
     "text": [
      "Enter The mass in kg 60\n",
      "Enter The velociy in meter/second 30\n"
     ]
    },
    {
     "name": "stdout",
     "output_type": "stream",
     "text": [
      "27000.0\n"
     ]
    }
   ],
   "source": [
    "mass = float(input('Enter The mass in kg'))\n",
    "vel = float(input('Enter The velociy in meter/second'))\n",
    "\n",
    "\n",
    "KE = round((1/2)*mass*vel**2,2)\n",
    "\n",
    "print(KE)"
   ]
  },
  {
   "cell_type": "markdown",
   "id": "590cfdef-972c-4319-bae1-f005cc2a9434",
   "metadata": {},
   "source": [
    "11) Quadratic Equation Roots:\n",
    "\n",
    "Write a Python program to find the roots of a quadratic equation. Use the formula:\n",
    "\n",
    "Take a, b, and c as inputs from the user."
   ]
  },
  {
   "cell_type": "code",
   "execution_count": 27,
   "id": "5f8ab97c-5ab1-4517-a66a-48558e2ecaf3",
   "metadata": {},
   "outputs": [
    {
     "name": "stdin",
     "output_type": "stream",
     "text": [
      "Enter the coefficient a:  1\n",
      "Enter the coefficient b:  2\n",
      "Enter the coefficient c:  3\n"
     ]
    },
    {
     "name": "stdout",
     "output_type": "stream",
     "text": [
      "The roots are complex: -1.000 ± 1.414i\n"
     ]
    }
   ],
   "source": [
    "import math\n",
    "\n",
    "a = float(input(\"Enter the coefficient a: \"))\n",
    "b = float(input(\"Enter the coefficient b: \"))\n",
    "c = float(input(\"Enter the coefficient c: \"))\n",
    "\n",
    "if a == 0:\n",
    "    print(\"This is not a quadratic equation (a cannot be 0).\")\n",
    "else:\n",
    "    discriminant = b**2 - 4*a*c\n",
    "    if discriminant > 0:\n",
    "        root1 = (-b + math.sqrt(discriminant)) / (2 * a)\n",
    "        root2 = (-b - math.sqrt(discriminant)) / (2 * a)\n",
    "        print(f\"The roots are real and distinct: {root1:.3f} and {root2:.3f}\")\n",
    "    elif discriminant == 0:\n",
    "        root = -b / (2 * a)\n",
    "        print(f\"The roots are real and equal: {root:.3f}\")\n",
    "    else:\n",
    "        real_part = -b / (2 * a)\n",
    "        imaginary_part = math.sqrt(abs(discriminant)) / (2 * a)\n",
    "        print(f\"The roots are complex: {real_part:.3f} ± {imaginary_part:.3f}i\")\n"
   ]
  },
  {
   "cell_type": "markdown",
   "id": "8cbf2d56-230b-48d4-89c1-7ddf3ec79c19",
   "metadata": {},
   "source": [
    "12) Temperature Conversion:\n",
    "\n",
    "Write a Python program to convert a temperature from Celsius to Fahrenheit. Use the\n",
    "formula:\n",
    "\n",
    "### F = (9/5)C + 32\n",
    "Take C (temperature in Celsius) as input from the user."
   ]
  },
  {
   "cell_type": "code",
   "execution_count": 30,
   "id": "bbf32aad-f83d-4487-8829-c66521582ba2",
   "metadata": {},
   "outputs": [
    {
     "name": "stdin",
     "output_type": "stream",
     "text": [
      "Enter the temperature in celsius 3\n"
     ]
    },
    {
     "name": "stdout",
     "output_type": "stream",
     "text": [
      "temperature in farhenheit 37.400\n"
     ]
    }
   ],
   "source": [
    "C = int(input('Enter the temperature in celsius'))\n",
    "\n",
    "F = (9/5)*C + 32\n",
    "\n",
    "print(f'temperature in farhenheit {F:.3f}')"
   ]
  },
  {
   "cell_type": "markdown",
   "id": "949c383b-c54b-4f00-80a9-a84a0e7397f4",
   "metadata": {},
   "source": [
    "13) Gravitational Force:\n",
    "\n",
    "Write a Python program to calculate the gravitational force between two objects. Use\n",
    "the formula\n",
    "\n",
    "### F = G((m1 ∗ m2)/r^2)\n",
    "\n",
    "- m1, m2 are the masses of the objects\n",
    "- r = distance between the centers of the objects\n",
    "\n",
    "Take m1, m2 and r as inputs from the user."
   ]
  },
  {
   "cell_type": "code",
   "execution_count": 44,
   "id": "cf4613e1-b477-455e-9c6f-0f9bab86183d",
   "metadata": {},
   "outputs": [
    {
     "name": "stdin",
     "output_type": "stream",
     "text": [
      "Enter the masses of the object m1:  2\n",
      "Enter the masses of the object m2:  22\n",
      "Enter the distance r:  2\n"
     ]
    },
    {
     "name": "stdout",
     "output_type": "stream",
     "text": [
      "110.000\n"
     ]
    }
   ],
   "source": [
    "m1 = float(input(\"Enter the masses of the object m1: \"))\n",
    "m2= float(input(\"Enter the masses of the object m2: \"))\n",
    "r = float(input(\"Enter the distance r: \"))\n",
    "G = 10\n",
    "\n",
    "F = G*((m1*m2)/r**2)\n",
    "\n",
    "print(f'{F:.3f}')\n"
   ]
  },
  {
   "cell_type": "markdown",
   "id": "73638526-5b92-4d5e-a5db-80d1f1d7ca55",
   "metadata": {},
   "source": [
    "14) Volume of a Cylinder:\n",
    "\n",
    "Write a Python program to calculate the volume of a cylinder. Use the formula:\n",
    "\n",
    "### Volume = πr^2h\n",
    "\n",
    "Take radius(r) and height(h) as inputs from the user"
   ]
  },
  {
   "cell_type": "code",
   "execution_count": 53,
   "id": "ca2bb488-1d64-40fb-9496-cec507e08e4f",
   "metadata": {},
   "outputs": [
    {
     "name": "stdin",
     "output_type": "stream",
     "text": [
      "Enter the Radius 2\n",
      "Enter the height 55\n"
     ]
    },
    {
     "name": "stdout",
     "output_type": "stream",
     "text": [
      "691.150\n"
     ]
    }
   ],
   "source": [
    "from math import pi\n",
    "rad = int(input('Enter the Radius'))\n",
    "h = int(input('Enter the height'))\n",
    "\n",
    "\n",
    "volume = pi*(rad**2)*h\n",
    "\n",
    "print(f'{volume:.3f}')"
   ]
  },
  {
   "cell_type": "markdown",
   "id": "990dddcf-c348-4c75-a8c4-9d2b4c16ae00",
   "metadata": {},
   "source": [
    "15) Pressure:\n",
    "\n",
    "Write a Python program to calculate the pressure exerted by a force on a surface. Use\n",
    "the formula:\n",
    "\n",
    "### P = F/A\n",
    "\n",
    "- P = pressure\n",
    "- F = force\n",
    "- A = area\n",
    "\n",
    "Take F(force) and A(area) as inputs from the user."
   ]
  },
  {
   "cell_type": "code",
   "execution_count": 57,
   "id": "e6bbb90c-b01f-46bc-a4d9-26a48bac2c4c",
   "metadata": {},
   "outputs": [
    {
     "name": "stdin",
     "output_type": "stream",
     "text": [
      "Enter the force 10\n",
      "Enter the area 10\n"
     ]
    },
    {
     "name": "stdout",
     "output_type": "stream",
     "text": [
      "1.000\n"
     ]
    }
   ],
   "source": [
    "F = int(input('Enter the force'))\n",
    "A = int(input('Enter the area'))\n",
    "\n",
    "\n",
    "P = F/A\n",
    "\n",
    "print(f'{P:.3f}')"
   ]
  },
  {
   "cell_type": "markdown",
   "id": "afa8b6e9-42cf-4f2a-ab74-2f54670e9081",
   "metadata": {},
   "source": [
    "16) Electric Power:\n",
    "\n",
    "Write a Python program to calculate the electric power consumed. Use the formula:\n",
    "\n",
    "### P = V/I\n",
    "\n",
    "where:\n",
    "\n",
    "- P = power\n",
    "- V = voltage\n",
    "- I = current\n",
    "\n",
    "Take V(voltage) and I(current) as inputs from the user."
   ]
  },
  {
   "cell_type": "code",
   "execution_count": 62,
   "id": "2de948e7-4339-4a25-873c-032834f1e3ae",
   "metadata": {},
   "outputs": [
    {
     "name": "stdin",
     "output_type": "stream",
     "text": [
      "Enter the voltage 344\n",
      "Enter the current 22\n"
     ]
    },
    {
     "name": "stdout",
     "output_type": "stream",
     "text": [
      "15.636\n"
     ]
    }
   ],
   "source": [
    "V = int(input('Enter the voltage'))\n",
    "I = int(input('Enter the current'))\n",
    "\n",
    "\n",
    "P = V/I\n",
    "\n",
    "print(f'{P:.3f}')"
   ]
  },
  {
   "cell_type": "markdown",
   "id": "e78c6c7f-fabd-454b-827f-d3dddea1acb5",
   "metadata": {},
   "source": [
    "17) Perimeter of a Circle (Circumference):\n",
    "\n",
    "Write a Python program to calculate the perimeter (circumference) of a circle. Use the\n",
    "formula:\n",
    "\n",
    "### P = 2πr\n",
    "\n",
    "Take r (radius) as input from the user."
   ]
  },
  {
   "cell_type": "code",
   "execution_count": 66,
   "id": "065c23b8-ad29-441d-b7a4-4509cce955c4",
   "metadata": {},
   "outputs": [
    {
     "name": "stdin",
     "output_type": "stream",
     "text": [
      "Enter the Radius 10\n"
     ]
    },
    {
     "name": "stdout",
     "output_type": "stream",
     "text": [
      "62.83\n"
     ]
    }
   ],
   "source": [
    "from math import pi\n",
    "rad = int(input('Enter the Radius'))\n",
    "\n",
    "P = 2*pi*rad\n",
    "\n",
    "print(f'{P:.2f}')"
   ]
  },
  {
   "cell_type": "markdown",
   "id": "21cea7df-b548-415e-8c35-782f8478a6a4",
   "metadata": {},
   "source": [
    "18) Future Value in Savings:\n",
    "\n",
    "Write a Python program to calculate the future value of an investment. Use the formula:\n",
    "\n",
    "FV = PV(1 + r)^t\n",
    "\n",
    "where:\n",
    "\n",
    "- FV= future value\n",
    "- PV= present value\n",
    "- r= annual interest rate (as a decimal)\n",
    "- t= time in years\n",
    "\n",
    "Take PV, r, and t as inputs from the user."
   ]
  },
  {
   "cell_type": "code",
   "execution_count": 73,
   "id": "fe5919e4-f7a5-4784-a346-a2e9cf428ae6",
   "metadata": {},
   "outputs": [
    {
     "name": "stdin",
     "output_type": "stream",
     "text": [
      "Enter the present value Pv:  10000\n",
      "Enter the annual interest rate r:  .1\n",
      "Enter the time in year t:  5\n"
     ]
    },
    {
     "name": "stdout",
     "output_type": "stream",
     "text": [
      "16105.10\n"
     ]
    }
   ],
   "source": [
    "PV = float(input('Enter the present value Pv: '))\n",
    "r = float(input('Enter the annual interest rate r: '))\n",
    "t = float(input('Enter the time in year t: '))\n",
    "\n",
    "FV = PV*(1 + r)**t\n",
    "\n",
    "print(f'{FV:.2f}')"
   ]
  },
  {
   "cell_type": "markdown",
   "id": "86c0ee66-712b-4693-b8cd-9319504440ab",
   "metadata": {},
   "source": [
    "19) Work Done by a Force:\n",
    "\n",
    "Write a Python program to calculate the work done by a force. Use the formula:\n",
    "\n",
    "### W = f.dcos(theta)\n",
    "\n",
    "where:\n",
    "\n",
    "- W = work done\n",
    "- f = force\n",
    "- d = distance\n",
    "- theta = angle between force and direction of movement (in degrees)\n",
    "\n",
    "Take f, d, and θ as inputs from the user."
   ]
  },
  {
   "cell_type": "code",
   "execution_count": 89,
   "id": "c45719e3-8cdc-4adf-b066-ff0c27ab78b6",
   "metadata": {},
   "outputs": [
    {
     "name": "stdin",
     "output_type": "stream",
     "text": [
      "Enter the force:  20\n",
      "Enter the distane:  5\n",
      "Enter the angle:  40\n"
     ]
    },
    {
     "name": "stdout",
     "output_type": "stream",
     "text": [
      "76.604\n"
     ]
    }
   ],
   "source": [
    "import math\n",
    "f = float(input(\"Enter the force: \"))\n",
    "d = float(input(\"Enter the distane: \"))\n",
    "theta = float(input(\"Enter the angle: \"))\n",
    "\n",
    "theta_radians = math.radians(theta)\n",
    "W = f*d*math.cos(theta_radians)\n",
    "\n",
    "print(f'{W:.3f}')"
   ]
  },
  {
   "cell_type": "markdown",
   "id": "85218517-3bf8-47df-9177-13561163e1ca",
   "metadata": {},
   "source": [
    "20) Heat Transfer:\n",
    "\n",
    "Write a Python program to calculate the amount of heat transferred. Use the formula:\n",
    "\n",
    "### Q = mc(∆T)\n",
    "\n",
    "where:\n",
    "\n",
    "- Q= heat transfer\n",
    "- m = mass\n",
    "- c = specific heat capacity\n",
    "- ΔT = change in teamprature\n",
    "\n",
    "Take m, c, T as inputs from the user."
   ]
  },
  {
   "cell_type": "code",
   "execution_count": 83,
   "id": "af73236e-8a25-4556-8d82-ba969d4710ff",
   "metadata": {},
   "outputs": [
    {
     "name": "stdin",
     "output_type": "stream",
     "text": [
      "Enter the mass:  100\n",
      "Enter the specific heat capacity:  10\n",
      "Enter the initial temperature:  30\n",
      "Enter the final temperature:  70\n"
     ]
    },
    {
     "name": "stdout",
     "output_type": "stream",
     "text": [
      "40000.00\n"
     ]
    }
   ],
   "source": [
    "m = float(input(\"Enter the mass: \"))\n",
    "c = float(input(\"Enter the specific heat capacity: \"))\n",
    "T_initial = float(input(\"Enter the initial temperature: \"))\n",
    "T_final = float(input(\"Enter the final temperature: \"))\n",
    "\n",
    "delta_T = T_final - T_initial\n",
    "\n",
    "Q = m * c * delta_T\n",
    "\n",
    "print(f\"{Q:.2f}\")\n"
   ]
  },
  {
   "cell_type": "code",
   "execution_count": null,
   "id": "ef95f16e-d8bd-498e-bda1-48a6872684af",
   "metadata": {},
   "outputs": [],
   "source": []
  }
 ],
 "metadata": {
  "kernelspec": {
   "display_name": "Python 3 (ipykernel)",
   "language": "python",
   "name": "python3"
  },
  "language_info": {
   "codemirror_mode": {
    "name": "ipython",
    "version": 3
   },
   "file_extension": ".py",
   "mimetype": "text/x-python",
   "name": "python",
   "nbconvert_exporter": "python",
   "pygments_lexer": "ipython3",
   "version": "3.12.7"
  }
 },
 "nbformat": 4,
 "nbformat_minor": 5
}

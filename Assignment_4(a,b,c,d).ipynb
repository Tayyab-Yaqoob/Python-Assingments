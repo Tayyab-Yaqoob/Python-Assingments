{
 "cells": [
  {
   "cell_type": "markdown",
   "id": "bb275938-1ab4-41d4-8507-fc900ff66828",
   "metadata": {
    "jp-MarkdownHeadingCollapsed": true
   },
   "source": [
    "# Section A\n",
    "\n",
    "#### Conditional Structures"
   ]
  },
  {
   "cell_type": "markdown",
   "id": "08f91f4e-87b5-4d71-b180-b9a020b2d8b6",
   "metadata": {},
   "source": [
    "1. Write a program that prompts the user to input a number and display if the number\n",
    "is even or odd."
   ]
  },
  {
   "cell_type": "code",
   "execution_count": 18,
   "id": "662efcdb-4572-469d-80da-19af13933351",
   "metadata": {},
   "outputs": [
    {
     "name": "stdin",
     "output_type": "stream",
     "text": [
      "Enter the number 1\n"
     ]
    },
    {
     "name": "stdout",
     "output_type": "stream",
     "text": [
      "Your number is odd\n"
     ]
    }
   ],
   "source": [
    "n = int(input('Enter the number'))\n",
    "msg = None\n",
    "if n == 0:\n",
    "    msg = 'zero'\n",
    "else:\n",
    "    if n%2 == 0:\n",
    "        msg = 'even'\n",
    "    else:\n",
    "        msg = 'odd'\n",
    "print(f'Your number is {msg}')"
   ]
  },
  {
   "cell_type": "markdown",
   "id": "e5706f16-2a45-4846-85ab-1281a8ef30c5",
   "metadata": {},
   "source": [
    "2. Write a Python program that takes an age as input and determines whether a person\n",
    "is eligible to vote. If the age is 18 or above, print \"You are eligible to vote.\" Otherwise,\n",
    "print \"You are not eligible to vote yet.\"."
   ]
  },
  {
   "cell_type": "code",
   "execution_count": 40,
   "id": "587098da-655c-4f28-ae78-7be90ebfd35a",
   "metadata": {},
   "outputs": [
    {
     "name": "stdin",
     "output_type": "stream",
     "text": [
      "Enter the your age:  31\n"
     ]
    },
    {
     "name": "stdout",
     "output_type": "stream",
     "text": [
      "Your status: You are eligible for voting\n"
     ]
    }
   ],
   "source": [
    "age = int(input('Enter the your age: '))\n",
    "msg = None\n",
    "if age >= 18:\n",
    "    msg = 'You are eligible for voting'\n",
    "else:\n",
    "    msg = 'You are not eligible for voting'\n",
    "print(f'Your status: {msg}')"
   ]
  },
  {
   "cell_type": "markdown",
   "id": "76067f84-09f4-4dc1-9a65-d74e77843763",
   "metadata": {},
   "source": [
    "3. Write a program that prompts the user to input two integers and outputs the largest."
   ]
  },
  {
   "cell_type": "code",
   "execution_count": 30,
   "id": "6bd69c1b-1476-4f62-9aa3-aa031d40b2dc",
   "metadata": {},
   "outputs": [
    {
     "name": "stdin",
     "output_type": "stream",
     "text": [
      "Enter the 1st number:  3\n",
      "Enter the 2nd number:  1\n"
     ]
    },
    {
     "name": "stdout",
     "output_type": "stream",
     "text": [
      "3 is largest one\n"
     ]
    }
   ],
   "source": [
    "n1 = int(input('Enter the 1st number: '))\n",
    "n2 = int(input('Enter the 2nd number: '))\n",
    "if n1 < n2:\n",
    "    print(f'{n2} is largest one')\n",
    "elif n1 > n2:\n",
    "    print(f'{n1} is largest one')\n",
    "else:\n",
    "    print('Both number are equal')"
   ]
  },
  {
   "cell_type": "markdown",
   "id": "09d5a204-e649-4076-8748-45e8a0bc2c05",
   "metadata": {},
   "source": [
    "4. Write a program that prompts the user to enter a number and determines whether it\n",
    "is positive, negative, or zero. The program should print \"Positive\" if the number is\n",
    "greater than 0, \"Negative\" if the number is less than 0, and \"Zero\" if the number is 0."
   ]
  },
  {
   "cell_type": "code",
   "execution_count": 36,
   "id": "c63a5511-b1ab-4d1d-a88e-f3dfb22ff5ad",
   "metadata": {},
   "outputs": [
    {
     "name": "stdin",
     "output_type": "stream",
     "text": [
      "Enter the number:  -1\n"
     ]
    },
    {
     "name": "stdout",
     "output_type": "stream",
     "text": [
      "-1 is negative\n"
     ]
    }
   ],
   "source": [
    "n = int(input('Enter the number: '))\n",
    "msg = None\n",
    "if n < 0:\n",
    "    msg = 'negative'\n",
    "elif n > 0:\n",
    "    msg = 'positive'\n",
    "else:\n",
    "    msg = 'zero'\n",
    "print(f'{n} is {msg}')"
   ]
  },
  {
   "cell_type": "markdown",
   "id": "006009dc-1353-4911-b2b0-900e34698793",
   "metadata": {},
   "source": [
    "5. Write a program that prompts the user to enter their age and prints the\n",
    "corresponding age group. The program should use the following age groups:\n",
    "\n",
    "- 0-12: Child\n",
    "- 13-19: Teenager\n",
    "- 20-59: Adult\n",
    "- 60 and above: Senior Citizen"
   ]
  },
  {
   "cell_type": "code",
   "execution_count": 46,
   "id": "d564e63a-4622-459b-908f-62e868abe28f",
   "metadata": {},
   "outputs": [
    {
     "name": "stdin",
     "output_type": "stream",
     "text": [
      "Enter the your age:  20\n"
     ]
    },
    {
     "name": "stdout",
     "output_type": "stream",
     "text": [
      "Your status: Adult\n"
     ]
    }
   ],
   "source": [
    "age = int(input('Enter the your age: '))\n",
    "msg = None\n",
    "if age >= 0 and age <= 12:\n",
    "    msg = 'Child'\n",
    "elif age >= 13 and age <= 19:\n",
    "    msg = 'Teenager'\n",
    "elif age >= 20 and age <= 59:\n",
    "    msg = 'Adult'\n",
    "else:\n",
    "    msg = 'Senior Citizen'\n",
    "print(f'Your status: {msg}')"
   ]
  },
  {
   "cell_type": "markdown",
   "id": "598301b8-87c4-4dd1-8f8f-aac906c5e910",
   "metadata": {},
   "source": [
    "6. Write a program that prompts the user to input a number from 1 to 7. The program\n",
    "should display the corresponding day for the given number. For example, if the user\n",
    "types 1, the output should be Sunday. If the user types 7, the output should be\n",
    "Saturday. If the number is not between 1 to 7 user should get error message as shown\n",
    "in sample output."
   ]
  },
  {
   "cell_type": "code",
   "execution_count": 49,
   "id": "8d7714ec-8141-4a4c-a7ac-ceff2cc0a160",
   "metadata": {},
   "outputs": [
    {
     "name": "stdin",
     "output_type": "stream",
     "text": [
      "Enter the day:  6\n"
     ]
    },
    {
     "name": "stdout",
     "output_type": "stream",
     "text": [
      "Friday\n"
     ]
    }
   ],
   "source": [
    "n = int(input('Enter the day: '))\n",
    "msg = None\n",
    "if n == 1:\n",
    "    msg = 'Sunday'\n",
    "elif n == 2:\n",
    "    msg = 'Monday'\n",
    "elif n == 3:\n",
    "    msg = 'Tuesday'\n",
    "elif n == 4:\n",
    "    msg = 'Wednesday'\n",
    "elif n == 5:\n",
    "    msg = 'Thursday'\n",
    "elif n == 6:\n",
    "    msg = 'Friday'\n",
    "elif n == 7:\n",
    "    msg = 'Saturday'\n",
    "else:\n",
    "    msg = 'Enter day of number between 1 to 7'\n",
    "print(msg)"
   ]
  },
  {
   "cell_type": "markdown",
   "id": "51eada3c-9f61-4301-8e65-2195cd4f812c",
   "metadata": {},
   "source": [
    "7. Write a program that prompts the user to enter their weight (in kilograms) and height\n",
    "(in meters). The program should calculate the Body Mass Index (BMI) using the formula:\n",
    "BMI = weight / (height * height). The program should then classify the BMI into one of\n",
    "the following categories:\n",
    "\n",
    "- less than 18.5 - Underweight\n",
    "- BMI between 18.5 and 24.9 - Normal weight\n",
    "- BMI between 25 and 29.9 - Overweight\n",
    "- BMI 30 or greater - Obesity"
   ]
  },
  {
   "cell_type": "code",
   "execution_count": 8,
   "id": "04367679-35ca-4724-8590-bc1ea62fb6a8",
   "metadata": {},
   "outputs": [
    {
     "name": "stdin",
     "output_type": "stream",
     "text": [
      "Enter your weight in kg:  78\n",
      "Enter your height in M:  1.82\n"
     ]
    },
    {
     "name": "stdout",
     "output_type": "stream",
     "text": [
      "Your status: Normal weight\n"
     ]
    }
   ],
   "source": [
    "weight = float(input('Enter your weight in kg: '))\n",
    "height = float(input('Enter your height in M: '))\n",
    "\n",
    "BMI = weight/(height*height)\n",
    "msg = None\n",
    "if BMI < 18.5:\n",
    "    msg = 'Underweight'\n",
    "elif BMI >= 18.5 and BMI <= 24.9:\n",
    "    msg = 'Normal weight'\n",
    "elif BMI >= 25 and BMI <= 29.9:\n",
    "    msg = 'Overweight'\n",
    "else:\n",
    "    msg = 'Obesity'\n",
    "print(f'Your status: {msg}')\n"
   ]
  },
  {
   "cell_type": "markdown",
   "id": "4caa807a-0c00-4395-b34a-79b9c11c8626",
   "metadata": {},
   "source": [
    "8. The marks obtained by a student in 3 different subjects are input by the user. Your\n",
    "program should calculate the average of subjects and display the grade. The student\n",
    "gets a grade as per the following rules:\n",
    "\n",
    "Average Grade\n",
    "- 90-100 A\n",
    "- 80-89 B\n",
    "- 70-79 C\n",
    "- 60-69 D\n",
    "- 0-59 F"
   ]
  },
  {
   "cell_type": "code",
   "execution_count": 14,
   "id": "a63a141f-1dee-4ff8-b5a0-27c116e11a88",
   "metadata": {},
   "outputs": [
    {
     "name": "stdin",
     "output_type": "stream",
     "text": [
      "Enter 1st subject mark:  85\n",
      "Enter 2nd subject mark:  85\n",
      "Enter 3rd subject mark:  82\n"
     ]
    },
    {
     "name": "stdout",
     "output_type": "stream",
     "text": [
      "Your Grade: B\n"
     ]
    }
   ],
   "source": [
    "sub1 = float(input('Enter 1st subject mark: '))\n",
    "sub2 = float(input('Enter 2nd subject mark: '))\n",
    "sub3 = float(input('Enter 3rd subject mark: '))\n",
    "\n",
    "s = sub1+sub2+sub3\n",
    "avg = s/3\n",
    "msg = None\n",
    "if avg >= 90 and avg <= 100:\n",
    "    msg = 'A'\n",
    "elif avg >= 80 and avg <= 89:\n",
    "    msg = 'B'\n",
    "elif avg >= 70 and avg <= 79:\n",
    "    msg = 'C'\n",
    "elif avg >= 60 and avg <= 69:\n",
    "    msg = 'D'\n",
    "else:\n",
    "    msg = 'F'\n",
    "print(f'Your Grade: {msg}')\n"
   ]
  },
  {
   "cell_type": "markdown",
   "id": "17efae6a-be9c-4c0e-8b9e-6090cce880ad",
   "metadata": {},
   "source": [
    "9. The roots of the quadratic equation ax^2 + bx + c = 0, a ≠ 0 are given by the following\n",
    "formula:\n",
    "\n",
    "In this formula, the term b^2- 4ac is called the discriminant. If b^2 - 4ac = 0, then the\n",
    "equation has two equal roots.\n",
    "If b^2 - 4ac > 0, the equation has two real roots. If b^2 - 4ac < 0, the equation has two\n",
    "complex roots.\n",
    "\n",
    "Write a program that prompts the user to input the value of a (the coefficient of x2), \n",
    "b (the coefficient of x), and c (the constant term) and outputs the roots of the quadratic\n",
    "equation."
   ]
  },
  {
   "cell_type": "code",
   "execution_count": 17,
   "id": "f7e0316b-1d28-48c0-8ffb-8a3cf87ff818",
   "metadata": {},
   "outputs": [
    {
     "name": "stdin",
     "output_type": "stream",
     "text": [
      "Enter the coefficient a:  4\n",
      "Enter the coefficient b:  2\n",
      "Enter the coefficient c:  4\n"
     ]
    },
    {
     "name": "stdout",
     "output_type": "stream",
     "text": [
      "The roots are complex: -0.250 ± 0.968i\n"
     ]
    }
   ],
   "source": [
    "import math\n",
    "\n",
    "a = float(input(\"Enter the coefficient a: \"))\n",
    "b = float(input(\"Enter the coefficient b: \"))\n",
    "c = float(input(\"Enter the coefficient c: \"))\n",
    "\n",
    "if a == 0:\n",
    "    print(\"This is not a quadratic equation (a cannot be 0).\")\n",
    "else:\n",
    "    discriminant = b**2 - 4*a*c\n",
    "    if discriminant > 0:\n",
    "        root1 = (-b + math.sqrt(discriminant)) / (2 * a)\n",
    "        root2 = (-b - math.sqrt(discriminant)) / (2 * a)\n",
    "        print(f\"The roots are real and distinct: {root1:.3f} and {root2:.3f}\")\n",
    "    elif discriminant == 0:\n",
    "        root = -b / (2 * a)\n",
    "        print(f\"The roots are real and equal: {root:.3f}\")\n",
    "    else:\n",
    "        real_part = -b / (2 * a)\n",
    "        imaginary_part = math.sqrt(abs(discriminant)) / (2 * a)\n",
    "        print(f\"The roots are complex: {real_part:.3f} ± {imaginary_part:.3f}i\")\n"
   ]
  },
  {
   "cell_type": "markdown",
   "id": "b64dbfa8-b514-4928-a75b-0c5e3ba6dfc9",
   "metadata": {},
   "source": [
    "10. Write a program that prompts the user to enter three numbers and sorts them in\n",
    "ascending order. The program should print the sorted numbers."
   ]
  },
  {
   "cell_type": "code",
   "execution_count": 9,
   "id": "30e1f7ae-2262-41b2-bd64-a202f67da514",
   "metadata": {},
   "outputs": [
    {
     "name": "stdin",
     "output_type": "stream",
     "text": [
      "Enter the 1st number:  3\n",
      "Enter the 2nd number:  3\n",
      "Enter the 3rd number:  3\n"
     ]
    },
    {
     "name": "stdout",
     "output_type": "stream",
     "text": [
      "The numbers in ascending order are: 3 3 3\n"
     ]
    }
   ],
   "source": [
    "a = int(input(\"Enter the 1st number: \"))\n",
    "b = int(input(\"Enter the 2nd number: \"))\n",
    "c = int(input(\"Enter the 3rd number: \"))\n",
    "\n",
    "if a <= b and a <= c:\n",
    "    if b <= c:\n",
    "        print(\"The numbers in ascending order are:\", a, b, c)\n",
    "    else:\n",
    "        print(\"The numbers in ascending order are:\", a, c, b)\n",
    "elif b <= a and b <= c:\n",
    "    if a <= c:\n",
    "        print(\"The numbers in ascending order are:\", b, a, c)\n",
    "    else:\n",
    "        print(\"The numbers in ascending order are:\", b, c, a)\n",
    "else:\n",
    "    if a <= b:\n",
    "        print(\"The numbers in ascending order are:\", c, a, b)\n",
    "    else:\n",
    "        print(\"The numbers in ascending order are:\", c, b, a)\n"
   ]
  },
  {
   "cell_type": "markdown",
   "id": "45a70129-3bd9-49e6-8fc5-322c786ebd2d",
   "metadata": {},
   "source": [
    "11. Write a program that prompts the user to input three integers and outputs the\n",
    "largest."
   ]
  },
  {
   "cell_type": "code",
   "execution_count": 15,
   "id": "33b7f563-53a8-45dc-b3e9-5c5b56e7a74e",
   "metadata": {},
   "outputs": [
    {
     "name": "stdin",
     "output_type": "stream",
     "text": [
      "Enter the 1st number:  2\n",
      "Enter the 2nd number:  2\n",
      "Enter the 3rd number:  3\n"
     ]
    },
    {
     "name": "stdout",
     "output_type": "stream",
     "text": [
      "The largest number is: 3\n"
     ]
    }
   ],
   "source": [
    "a = int(input(\"Enter the 1st number: \"))\n",
    "b = int(input(\"Enter the 2nd number: \"))\n",
    "c = int(input(\"Enter the 3rd number: \"))\n",
    "\n",
    "if a >= b and a >= c:\n",
    "    largest = a\n",
    "elif b >= a and b >= c:\n",
    "    largest = b\n",
    "else:\n",
    "    largest = c\n",
    "\n",
    "print(\"The largest number is:\", largest)\n",
    "\n"
   ]
  },
  {
   "cell_type": "markdown",
   "id": "6d457e28-b52b-4b8e-9d28-1df849c72dde",
   "metadata": {},
   "source": [
    "12. Write a program that prompts the user to input a character and determine the\n",
    "character is vowel or consonant."
   ]
  },
  {
   "cell_type": "code",
   "execution_count": 33,
   "id": "deff2986-1167-442b-8d32-dd2f6050f1d1",
   "metadata": {},
   "outputs": [
    {
     "name": "stdin",
     "output_type": "stream",
     "text": [
      "Enter character:  I\n"
     ]
    },
    {
     "name": "stdout",
     "output_type": "stream",
     "text": [
      "Your character: I is Vowel\n"
     ]
    }
   ],
   "source": [
    "ch = input('Enter character: ')\n",
    "ch_conver = ch.lower()\n",
    "msg = None\n",
    "\n",
    "if ch_conver == 'a' or ch_conver == 'e' or ch_conver == 'i' or ch_conver == 'o' or ch_conver == 'u':\n",
    "    msg = 'Vowel'\n",
    "else:\n",
    "    msg = 'Consonent'\n",
    "\n",
    "print(f'Your character: {ch} is {msg}')\n"
   ]
  },
  {
   "cell_type": "markdown",
   "id": "b3ecb037-27ef-4819-be5b-76b1dd94ae93",
   "metadata": {},
   "source": [
    "13. Write a program that prompts the user to input a year and determine whether the\n",
    "year is a leap year or not.\n",
    "Leap Years are any year that can be evenly divided by 4. A year that is evenly divisible by\n",
    "100 is a leap year only if it is also evenly divisible by 400. Example:\n",
    "\n",
    "- 1992 Leap Year\n",
    "- 2000 Leap Year\n",
    "- 1900 NOT a Leap Year\n",
    "- 1995 NOT a Leap Year"
   ]
  },
  {
   "cell_type": "code",
   "execution_count": 108,
   "id": "dadfd7e2-29e1-43ec-aed1-7ee4eae46dda",
   "metadata": {},
   "outputs": [
    {
     "name": "stdin",
     "output_type": "stream",
     "text": [
      "Enter a year:  2005\n"
     ]
    },
    {
     "name": "stdout",
     "output_type": "stream",
     "text": [
      "2005 is NOT a Leap Year\n"
     ]
    }
   ],
   "source": [
    "year = int(input(\"Enter a year: \"))\n",
    "\n",
    "if year % 4 == 0 and year % 100 != 0 or year % 400 == 0:\n",
    "    print(f\"{year} is a Leap Year\")\n",
    "else:\n",
    "    print(f\"{year} is NOT a Leap Year\")"
   ]
  },
  {
   "cell_type": "markdown",
   "id": "219a29ba-247e-4dab-90d4-06565272cbe3",
   "metadata": {},
   "source": [
    "14. Write a program that prompts the user to input number of calls and calculate the\n",
    "monthly telephone bills as per the following rule:\n",
    "Minimum Rs. 200 for up to 100 calls.\n",
    "\n",
    "- Plus Rs. 0.60 per call for next 50 calls.\n",
    "- Plus Rs. 0.50 per call for next 50 calls.\n",
    "- Plus Rs. 0.40 per call for any call beyond 200 calls."
   ]
  },
  {
   "cell_type": "code",
   "execution_count": 114,
   "id": "6367add6-b1c0-474f-82c6-95fb566a96db",
   "metadata": {},
   "outputs": [
    {
     "name": "stdin",
     "output_type": "stream",
     "text": [
      "Enter the number of calls:  200\n"
     ]
    },
    {
     "name": "stdout",
     "output_type": "stream",
     "text": [
      "Your bill is: Rs. 255.0\n"
     ]
    }
   ],
   "source": [
    "no_call = int(input('Enter the number of calls: '))\n",
    "bill = 0\n",
    "\n",
    "if no_call >= 0 and no_call <= 100:\n",
    "    bill = 200\n",
    "elif no_call > 100 and no_call <= 150:\n",
    "    cal = no_call - 100\n",
    "    bill = 200 + (cal * 0.60)\n",
    "elif no_call > 150 and no_call <= 200:\n",
    "    cal = 50  # Pehle 50 calls (101 se 150)\n",
    "    cal1 = no_call - 150  # Next 50 calls (151 se current call count)\n",
    "    bill = 200 + (cal * 0.60) + (cal1 * 0.50)\n",
    "else:\n",
    "    cal = 50  # Pehle 50 calls (101 se 150)\n",
    "    cal1 = 50  # Next 50 calls (151 se 200)\n",
    "    cal2 = no_call - 200  # 200 se zyada wali calls\n",
    "    bill = 200 + (cal * 0.60) + (cal1 * 0.50) + (cal2 * 0.40)\n",
    "\n",
    "print(\"Your bill is: Rs.\", bill)\n"
   ]
  },
  {
   "cell_type": "markdown",
   "id": "55ea8722-3741-4ccd-aee8-6fd55153492f",
   "metadata": {
    "jp-MarkdownHeadingCollapsed": true
   },
   "source": [
    "# Section B\n",
    "\n",
    "#### Looping Structures"
   ]
  },
  {
   "cell_type": "markdown",
   "id": "fd05df21-8c6d-4887-acc9-1790506bb866",
   "metadata": {},
   "source": [
    "1. Write a Python program to print the numbers from 1 to 10 using a for loop."
   ]
  },
  {
   "cell_type": "code",
   "execution_count": 153,
   "id": "dd2fb719-e1ac-40c8-9ee5-37c8f363955c",
   "metadata": {},
   "outputs": [
    {
     "name": "stdout",
     "output_type": "stream",
     "text": [
      "1,2,3,4,5,6,7,8,9,10,"
     ]
    }
   ],
   "source": [
    "for i in range(1,11):\n",
    "    print(i,end=\",\")"
   ]
  },
  {
   "cell_type": "markdown",
   "id": "1cf535c9-6835-4719-996a-aa98b148de88",
   "metadata": {},
   "source": [
    "2. Write a Python program to print the numbers from 20 to 1 using a while loop."
   ]
  },
  {
   "cell_type": "code",
   "execution_count": 151,
   "id": "2d16f777-a09d-4902-9a29-25baa9175b32",
   "metadata": {},
   "outputs": [
    {
     "name": "stdout",
     "output_type": "stream",
     "text": [
      "20,19,18,17,16,15,14,13,12,11,10,9,8,7,6,5,4,3,2,1,"
     ]
    }
   ],
   "source": [
    "i = 20 \n",
    "while i > 0:\n",
    "    print(i,end=\",\")\n",
    "    i -= 1"
   ]
  },
  {
   "cell_type": "markdown",
   "id": "348e6c75-67f5-478e-8584-d16879fa39dd",
   "metadata": {},
   "source": [
    "3. Write a program to print even numbers from 1 to 10."
   ]
  },
  {
   "cell_type": "code",
   "execution_count": 149,
   "id": "e132fa82-e1b1-4b9d-b938-2781ce1b7c5d",
   "metadata": {},
   "outputs": [
    {
     "name": "stdout",
     "output_type": "stream",
     "text": [
      "2,4,6,8,10,"
     ]
    }
   ],
   "source": [
    "for i in range(2,11,2):\n",
    "    print(i,end =\",\")"
   ]
  },
  {
   "cell_type": "markdown",
   "id": "8ef5bb15-b1d4-4098-ab85-b83fbe9d94d5",
   "metadata": {},
   "source": [
    "4. Write a program that prompts the user to enter a number n and prints all the\n",
    "numbers from 1 to n."
   ]
  },
  {
   "cell_type": "code",
   "execution_count": 157,
   "id": "944e7818-5e86-4050-8806-8fd0b71bf164",
   "metadata": {},
   "outputs": [
    {
     "name": "stdin",
     "output_type": "stream",
     "text": [
      "Enter The Number:  99\n"
     ]
    },
    {
     "name": "stdout",
     "output_type": "stream",
     "text": [
      "1,2,3,4,5,6,7,8,9,10,11,12,13,14,15,16,17,18,19,20,21,22,23,24,25,26,27,28,29,30,31,32,33,34,35,36,37,38,39,40,41,42,43,44,45,46,47,48,49,50,51,52,53,54,55,56,57,58,59,60,61,62,63,64,65,66,67,68,69,70,71,72,73,74,75,76,77,78,79,80,81,82,83,84,85,86,87,88,89,90,91,92,93,94,95,96,97,98,99,"
     ]
    }
   ],
   "source": [
    "n = int(input(\"Enter The Number: \"))\n",
    "\n",
    "for i in range(1,n+1):\n",
    "    print(i,end =\",\")"
   ]
  },
  {
   "cell_type": "markdown",
   "id": "d1ea459a-d7ea-4f1b-954b-9100766b58d8",
   "metadata": {},
   "source": [
    "5. Write a program that prompts the user to enter a number n, and then prints all the\n",
    "odd numbers between 1 and n."
   ]
  },
  {
   "cell_type": "code",
   "execution_count": 171,
   "id": "15e7b717-9811-4fa0-b004-a79f4c71cfaf",
   "metadata": {},
   "outputs": [
    {
     "name": "stdin",
     "output_type": "stream",
     "text": [
      "Enter The Number:  10\n"
     ]
    },
    {
     "name": "stdout",
     "output_type": "stream",
     "text": [
      "1,3,5,7,9,"
     ]
    }
   ],
   "source": [
    "n = int(input(\"Enter The Number: \"))\n",
    "\n",
    "for i in range(1,n+1,2):\n",
    "    print(i,end =\",\")"
   ]
  },
  {
   "cell_type": "markdown",
   "id": "ef86f823-6ee6-4b3b-a28b-fb5c22faf25a",
   "metadata": {},
   "source": [
    "6. Write a program that prints 'Happy Birthday!' five times on screen."
   ]
  },
  {
   "cell_type": "code",
   "execution_count": 162,
   "id": "90543fb4-59c7-416e-a498-3a5efce558e5",
   "metadata": {},
   "outputs": [
    {
     "name": "stdout",
     "output_type": "stream",
     "text": [
      "Happy Birthday!\n",
      "Happy Birthday!\n",
      "Happy Birthday!\n",
      "Happy Birthday!\n",
      "Happy Birthday!\n"
     ]
    }
   ],
   "source": [
    "for i in range(5):\n",
    "    print('Happy Birthday!')"
   ]
  },
  {
   "cell_type": "markdown",
   "id": "d06754a7-5f6f-41e6-88f6-cb9c65805331",
   "metadata": {},
   "source": [
    "7. Write a program that takes a number n as input from the user and generates the first\n",
    "n terms of the series formed by squaring the natural numbers.\n",
    "\n",
    "Sample output\n",
    "- Enter a number: 6\n",
    "- The first 6 terms of the series are:\n",
    "- 1 4 9 16 25 36"
   ]
  },
  {
   "cell_type": "code",
   "execution_count": 168,
   "id": "cbb299cd-1d75-45c6-b503-064c44d1bc0b",
   "metadata": {},
   "outputs": [
    {
     "name": "stdin",
     "output_type": "stream",
     "text": [
      "Enter The Number:  6\n"
     ]
    },
    {
     "name": "stdout",
     "output_type": "stream",
     "text": [
      "1\n",
      "4\n",
      "9\n",
      "16\n",
      "25\n",
      "36\n"
     ]
    }
   ],
   "source": [
    "n = int(input(\"Enter The Number: \"))\n",
    "\n",
    "for i in range(1,n+1):\n",
    "    print(i**2)"
   ]
  },
  {
   "cell_type": "markdown",
   "id": "acb278ae-5e89-4b3b-b669-1419a69914af",
   "metadata": {},
   "source": [
    "8. Write a program that prompts the user to input a number and prints its multiplication\n",
    "table."
   ]
  },
  {
   "cell_type": "code",
   "execution_count": 176,
   "id": "37c9a084-e0ed-4e7a-8484-f679f1f99e25",
   "metadata": {},
   "outputs": [
    {
     "name": "stdin",
     "output_type": "stream",
     "text": [
      "Enter the number 2\n"
     ]
    },
    {
     "name": "stdout",
     "output_type": "stream",
     "text": [
      "2 x 1 = 2\n",
      "2 x 2 = 4\n",
      "2 x 3 = 6\n",
      "2 x 4 = 8\n",
      "2 x 5 = 10\n",
      "2 x 6 = 12\n",
      "2 x 7 = 14\n",
      "2 x 8 = 16\n",
      "2 x 9 = 18\n",
      "2 x 10 = 20\n"
     ]
    }
   ],
   "source": [
    "n = int(input('Enter the number'))\n",
    "res = 1\n",
    "for i in range(1,11):\n",
    "    res = n*i\n",
    "    print(f'{n} x {i} = {res}')"
   ]
  },
  {
   "cell_type": "markdown",
   "id": "ff97805c-6517-4359-88f5-d168418f41a8",
   "metadata": {},
   "source": [
    "9. Write a Python program to print the first 8 terms of an arithmetic progression starting\n",
    "with 3 and having a common difference of 4.\n",
    "The program should output the following sequence:\n",
    "3 7 11 15 19 23 27 31"
   ]
  },
  {
   "cell_type": "code",
   "execution_count": 189,
   "id": "3358214a-0d39-4d69-a0e5-eb9d86ea432d",
   "metadata": {},
   "outputs": [
    {
     "name": "stdout",
     "output_type": "stream",
     "text": [
      "3\n",
      "7\n",
      "11\n",
      "15\n",
      "19\n",
      "23\n",
      "27\n",
      "31\n"
     ]
    }
   ],
   "source": [
    "start = 3\n",
    "for i in range(1,9):\n",
    "    print(start)\n",
    "    start = start+4"
   ]
  },
  {
   "cell_type": "markdown",
   "id": "7cf21a39-5d2a-41b5-b603-92eff254dc7e",
   "metadata": {},
   "source": [
    "10. Write a Python program to print the first 6 terms of a geometric sequence starting\n",
    "with 2 and having a common ratio of 3.\n",
    "The program should output the following sequence:\n",
    "2 6 18 54 162 486"
   ]
  },
  {
   "cell_type": "code",
   "execution_count": 196,
   "id": "6b3ce7ff-ab31-411a-b1dd-8485088a8367",
   "metadata": {},
   "outputs": [
    {
     "name": "stdout",
     "output_type": "stream",
     "text": [
      "2\n",
      "6\n",
      "18\n",
      "54\n",
      "162\n",
      "486\n"
     ]
    }
   ],
   "source": [
    "start = 2\n",
    "for i in range(1,7):\n",
    "    print(start)\n",
    "    start = start*3"
   ]
  },
  {
   "cell_type": "markdown",
   "id": "669495fd-3f8f-4225-a8a3-c73c9c6a6fce",
   "metadata": {},
   "source": [
    "11. Write a program that asks the user for a positive integer value. The program should\n",
    "calculate the sum of all the integers from 1 up to the number entered. For example, if\n",
    "the user enters 20, the loop will find the sum of 1, 2, 3, 4, ... 20."
   ]
  },
  {
   "cell_type": "code",
   "execution_count": 200,
   "id": "1cad1877-dc7b-42c7-8201-5bbd02801e0b",
   "metadata": {},
   "outputs": [
    {
     "name": "stdin",
     "output_type": "stream",
     "text": [
      "Enter a positive integer:  20\n"
     ]
    },
    {
     "name": "stdout",
     "output_type": "stream",
     "text": [
      "210\n"
     ]
    }
   ],
   "source": [
    "integer = int(input('Enter a positive integer: '))\n",
    "\n",
    "sum1 = 0\n",
    "\n",
    "for i in range(1,integer+1):\n",
    "    sum1 = sum1+i\n",
    "print(sum1)"
   ]
  },
  {
   "cell_type": "markdown",
   "id": "2864d2ab-af9a-42c1-b342-0f8d51ada989",
   "metadata": {},
   "source": [
    "12. write a program that takes a positive integer N as input and calculates the sum of\n",
    "the reciprocals of all numbers from 1 up to N. The program should display the final sum.\n",
    "\n",
    "Output of the program should be like:\n",
    "- Enter a positive integer: 5\n",
    "- The sum of reciprocals from 1 to 5 is: 2.28"
   ]
  },
  {
   "cell_type": "code",
   "execution_count": 2,
   "id": "91796944-a4cb-4acb-80bc-a668c46f8c63",
   "metadata": {},
   "outputs": [
    {
     "data": {
      "text/plain": [
       "2.283333333333333"
      ]
     },
     "execution_count": 2,
     "metadata": {},
     "output_type": "execute_result"
    }
   ],
   "source": [
    "1+0.5+(1/3)+(1/4)+(1/5)"
   ]
  },
  {
   "cell_type": "code",
   "execution_count": 14,
   "id": "ef749798-0c91-489a-8e43-5a3e4506d4e9",
   "metadata": {},
   "outputs": [
    {
     "name": "stdin",
     "output_type": "stream",
     "text": [
      "Enter a positive integer:  5\n"
     ]
    },
    {
     "name": "stdout",
     "output_type": "stream",
     "text": [
      "2.28\n"
     ]
    }
   ],
   "source": [
    "integer = int(input('Enter a positive integer: '))\n",
    "\n",
    "sum1 = 0\n",
    "\n",
    "for i in range(1,integer+1):\n",
    "    rec = 1/i\n",
    "    sum1 = sum1+rec\n",
    "print(f'{sum1:.2f}')"
   ]
  },
  {
   "cell_type": "markdown",
   "id": "0e80f0d8-108f-4ba9-96b4-a8495a1b7397",
   "metadata": {},
   "source": [
    "13. Write a program that prompts the user to enter a number and repeats this process 5\n",
    "times. The program should accumulate the numbers entered and then display the final\n",
    "running total.\n",
    "\n",
    "Sample Output:\n",
    "- Enter a number: 10\n",
    "- Enter a number: 15\n",
    "- Enter a number: 35\n",
    "- Enter a number: 40\n",
    "- Enter a number: 50\n",
    "- The final running total is: 150"
   ]
  },
  {
   "cell_type": "code",
   "execution_count": 22,
   "id": "65ccf4ee-0a95-4c43-bfca-1b595ec89da3",
   "metadata": {},
   "outputs": [
    {
     "name": "stdin",
     "output_type": "stream",
     "text": [
      "Enter a number:  20\n",
      "Enter a number:  30\n",
      "Enter a number:  40\n",
      "Enter a number:  50\n",
      "Enter a number:  60\n"
     ]
    },
    {
     "name": "stdout",
     "output_type": "stream",
     "text": [
      "The final running total is: 200\n"
     ]
    }
   ],
   "source": [
    "total = 0\n",
    "for i in range(5):\n",
    "    a = int(input('Enter a number: '))\n",
    "    total = total + a \n",
    "print(f'The final running total is: {total}')"
   ]
  },
  {
   "cell_type": "markdown",
   "id": "560ff859-43c7-432c-9bee-451b2fbe489f",
   "metadata": {},
   "source": [
    "14. Write a program that prompts the user to enter a positive integer and calculates its\n",
    "factorial. The factorial of a positive integer 'n' is denoted as 'n!' and is calculated by\n",
    "multiplying all the integers from 1 to 'n' together. For example, the factorial of 5\n",
    "(denoted as 5!) is calculated as 1 x 2 x 3 x 4 x 5.\n",
    "\n",
    "The program should display the factorial value if the input is a positive number, or\n",
    "display a message stating that the factorial does not exist for negative numbers.\n",
    "Additionally, for an input of zero, the program should output that the factorial of 0 is 1."
   ]
  },
  {
   "cell_type": "code",
   "execution_count": 31,
   "id": "47e11713-8055-4fcf-bf9b-8cd179b1cd0e",
   "metadata": {},
   "outputs": [
    {
     "name": "stdin",
     "output_type": "stream",
     "text": [
      "Enter the number 5\n"
     ]
    },
    {
     "name": "stdout",
     "output_type": "stream",
     "text": [
      "5! is 120\n"
     ]
    }
   ],
   "source": [
    "n = int(input('Enter the number'))\n",
    "msg = None\n",
    "fact = 1\n",
    "if n == 0:\n",
    "    msg = 1\n",
    "elif n < 0:\n",
    "    print('Factorial does not exist')\n",
    "else:\n",
    "    for i in range(1,n+1):\n",
    "        fact = fact*i\n",
    "    msg = fact\n",
    "print(f'{n}! is {msg}')"
   ]
  },
  {
   "cell_type": "markdown",
   "id": "b105922f-8646-4a22-9fac-24a6dddb6b7f",
   "metadata": {},
   "source": [
    "15. Write a Python program that prompts the user to enter a base number and an\n",
    "exponent, and then calculates the power of the base to the exponent. The program\n",
    "should not use the exponentiation operator (**) or the math.pow() function. The\n",
    "program should handle both positive and negative exponents."
   ]
  },
  {
   "cell_type": "code",
   "execution_count": 46,
   "id": "0b5931ab-9a9d-4f02-a1d4-0eee0b39f66a",
   "metadata": {},
   "outputs": [
    {
     "name": "stdin",
     "output_type": "stream",
     "text": [
      "Enter the base number:  -2\n",
      "Enter the exponent number:  2\n"
     ]
    },
    {
     "name": "stdout",
     "output_type": "stream",
     "text": [
      "The result of -2 raised to the power of 2 is 4\n"
     ]
    }
   ],
   "source": [
    "base = int(input('Enter the base number: '))\n",
    "expo = int(input('Enter the exponent number: '))\n",
    "result = 1\n",
    "\n",
    "if expo >= 0:\n",
    "    for i in range(expo):\n",
    "        result *= base\n",
    "\n",
    "else:\n",
    "    for i in range(abs(expo)):\n",
    "        result *= base\n",
    "    result = 1 / result\n",
    "\n",
    "print(f\"The result of {base} raised to the power of {expo} is {result}\")\n",
    "\n"
   ]
  },
  {
   "cell_type": "markdown",
   "id": "f8a3df25-1918-44a4-993c-5622a9c08691",
   "metadata": {
    "jp-MarkdownHeadingCollapsed": true
   },
   "source": [
    "# Section C\n",
    "\n",
    "#### List"
   ]
  },
  {
   "cell_type": "markdown",
   "id": "a6851ec1-6de1-4801-9652-866c56ee4de7",
   "metadata": {},
   "source": [
    "1. Write a program that accepts a list from user and print the alternate element of list."
   ]
  },
  {
   "cell_type": "code",
   "execution_count": 58,
   "id": "94fae0fe-5eb8-46df-90d4-2d49b30ece25",
   "metadata": {},
   "outputs": [
    {
     "name": "stdin",
     "output_type": "stream",
     "text": [
      "Enter the list of elements separated by spaces:  2 3 4 56 7 \n"
     ]
    },
    {
     "name": "stdout",
     "output_type": "stream",
     "text": [
      "Alternate elements of the list are: ['3', '56']\n"
     ]
    }
   ],
   "source": [
    "a = input(\"Enter the list of elements separated by spaces: \")\n",
    "\n",
    "elements = a.split()\n",
    "\n",
    "alter = elements[1::2]\n",
    "print(f'Alternate elements of the list are: {alter}')\n"
   ]
  },
  {
   "cell_type": "markdown",
   "id": "f7b7bb7b-14af-4ab4-a90b-ecc115a910fd",
   "metadata": {},
   "source": [
    "2. Write a program that accepts a list from user. Your program should reverse the content of list and\n",
    "display it. Do not use reverse() method."
   ]
  },
  {
   "cell_type": "code",
   "execution_count": 105,
   "id": "16169c6b-df83-4c11-85c5-311a4c177c3c",
   "metadata": {},
   "outputs": [
    {
     "name": "stdin",
     "output_type": "stream",
     "text": [
      "Enter the list of elements separated by spaces:  3 4 6 7 8\n"
     ]
    },
    {
     "name": "stdout",
     "output_type": "stream",
     "text": [
      "['8', '7', '6', '4', '3']\n"
     ]
    }
   ],
   "source": [
    "a = input(\"Enter the list of elements separated by spaces: \")\n",
    "\n",
    "list1 = a.split()\n",
    "rev_lst = []\n",
    "for i in range(1,len(list1)+1):\n",
    "    rev_lst.append(list1.pop())\n",
    "print(rev_lst)\n",
    "\n"
   ]
  },
  {
   "cell_type": "markdown",
   "id": "f0bd9b11-007b-4b51-8cdc-23acb2fd45cb",
   "metadata": {},
   "source": [
    "3. Find and display the largest number of a list without using built-in function max(). Your program\n",
    "should ask the user to input values in list from keyboard."
   ]
  },
  {
   "cell_type": "code",
   "execution_count": 137,
   "id": "74350b6c-1ab5-4ba1-a514-3335b5d44c48",
   "metadata": {},
   "outputs": [
    {
     "name": "stdin",
     "output_type": "stream",
     "text": [
      "Enter the list of elements separated by spaces:  100 200 99 69\n"
     ]
    },
    {
     "name": "stdout",
     "output_type": "stream",
     "text": [
      "The largest value of ['100', '200', '99', '69'] is: 200\n"
     ]
    }
   ],
   "source": [
    "a = input(\"Enter the list of elements separated by spaces: \")\n",
    "\n",
    "lst = a.split()\n",
    "m = 0\n",
    "for i in range(len(lst)):\n",
    "    val = lst[i]\n",
    "    a = int(val)\n",
    "    if a > m:\n",
    "        m = a\n",
    "    else:\n",
    "        m\n",
    "print(f'The largest value of {lst} is: {m}')"
   ]
  },
  {
   "cell_type": "markdown",
   "id": "f8d94822-31a8-4e4f-8c71-87e80c46dcdb",
   "metadata": {},
   "source": [
    "4. Write a program that rotates the element of a list so that the element at the first index moves to the\n",
    "second index, the element in the second index moves to the third index, etc., and the element in the last\n",
    "index moves to the first index."
   ]
  },
  {
   "cell_type": "code",
   "execution_count": 224,
   "id": "1cfe990a-6929-4585-8aa9-7ea2fa0998d7",
   "metadata": {},
   "outputs": [
    {
     "name": "stdout",
     "output_type": "stream",
     "text": [
      "[True, 100, 299, 'tayyab']\n"
     ]
    }
   ],
   "source": [
    "li = [100,299,'tayyab',True]\n",
    "new_li  = [li[-1]]+li[:-1]\n",
    "print(new_li)"
   ]
  },
  {
   "cell_type": "markdown",
   "id": "6c57751b-37c0-47ac-b28c-ca411136f88f",
   "metadata": {},
   "source": [
    "5. Write a program that input a string and ask user to delete a given word from a string."
   ]
  },
  {
   "cell_type": "code",
   "execution_count": 21,
   "id": "4e8e0769-3ca4-4f22-b15e-eb040fdcaf0b",
   "metadata": {},
   "outputs": [
    {
     "name": "stdin",
     "output_type": "stream",
     "text": [
      "Enter the string:  tayyab\n",
      "Enter which word delete:  y\n"
     ]
    },
    {
     "name": "stdout",
     "output_type": "stream",
     "text": [
      "tayyab \n",
      "delete: y\n",
      "new: tayab\n"
     ]
    }
   ],
   "source": [
    "a = input(\"Enter the string: \")\n",
    "b = input(\"Enter which word delete: \")\n",
    "\n",
    "new_lst = list(a)\n",
    "new_lst.remove(b)\n",
    "new_str = ''.join(new_lst)\n",
    "print(f'''{a} \n",
    "delete: {b}\n",
    "new: {new_str}''')\n"
   ]
  },
  {
   "cell_type": "markdown",
   "id": "77c8dceb-451a-42fe-8bab-b89fd4abaa7b",
   "metadata": {},
   "source": [
    "6. Write a program that reads a string from the user containing a date in the form mm/dd/yyyy. It\n",
    "should print the date in the form March 12, 2021."
   ]
  },
  {
   "cell_type": "code",
   "execution_count": 40,
   "id": "4c95324f-e121-4a88-957a-daea0cfabbb8",
   "metadata": {},
   "outputs": [
    {
     "name": "stdin",
     "output_type": "stream",
     "text": [
      "Enter the date in the form of mm/dd/yyyy 11/18/2001\n"
     ]
    },
    {
     "name": "stdout",
     "output_type": "stream",
     "text": [
      "November 18,2001\n"
     ]
    }
   ],
   "source": [
    "months = [\"January\", \"February\", \"March\", \"April\", \"May\", \"June\", \n",
    "          \"July\", \"August\", \"September\", \"October\", \"November\", \"December\"]\n",
    "\n",
    "date = input('Enter the date in the form of mm/dd/yyyy')\n",
    "date = date.split('/')\n",
    "\n",
    "date_m = date[0]\n",
    "months = months[(int(date_m)-1)]\n",
    "day = date[1]\n",
    "year = date[2]\n",
    "\n",
    "print(f'{months} {day},{year}')\n"
   ]
  },
  {
   "cell_type": "markdown",
   "id": "afa6829f-a0f2-4b6e-8933-bd7177d88fd5",
   "metadata": {},
   "source": [
    "7. Write a program with a function that accepts a string from keyboard and create a new string after\n",
    "converting character of each word capitalized. For instance, if the sentence is \"stop and smell the roses.\"\n",
    "the output should be \"Stop And Smell The Roses\""
   ]
  },
  {
   "cell_type": "code",
   "execution_count": 46,
   "id": "79d7c3d8-351d-405b-9be3-675191f9ad4a",
   "metadata": {},
   "outputs": [
    {
     "name": "stdin",
     "output_type": "stream",
     "text": [
      "Enter the word tayyab\n"
     ]
    },
    {
     "name": "stdout",
     "output_type": "stream",
     "text": [
      "Tayyab\n"
     ]
    }
   ],
   "source": [
    "st = input('Enter the word')\n",
    "new = st.capitalize()\n",
    "print(new)"
   ]
  },
  {
   "cell_type": "markdown",
   "id": "17064dde-5b2d-46df-9287-72883413ad2b",
   "metadata": {},
   "source": [
    "8. Find the sum of each row of matrix of size m x n. For example for the following matrix output will be\n",
    "like this :\n",
    "\n",
    "- Sum of row 1 = 32\n",
    "- Sum of row 2 = 3\n",
    "- Sum of row 3 = 63"
   ]
  },
  {
   "cell_type": "code",
   "execution_count": 52,
   "id": "f0393cca-c3de-4b0e-8d40-d936d06831df",
   "metadata": {},
   "outputs": [
    {
     "name": "stdout",
     "output_type": "stream",
     "text": [
      "Sum of row 1 = 32\n",
      "Sum of row 2 = 31\n",
      "Sum of row 3 = 63\n"
     ]
    }
   ],
   "source": [
    "matrix = [\n",
    "    [2, 11, 7, 12],\n",
    "    [5, 2, 9, 15],\n",
    "    [8, 3, 10, 42]\n",
    "]\n",
    "for i, row in enumerate(matrix):\n",
    "        row_sum = sum(row)\n",
    "        print(f\"Sum of row {i+1} = {row_sum}\")\n"
   ]
  },
  {
   "cell_type": "markdown",
   "id": "460e44cc-6e2f-4e58-9384-b6a48611f251",
   "metadata": {},
   "source": [
    "9. Write a program to add two matrices of size n x m."
   ]
  },
  {
   "cell_type": "code",
   "execution_count": 54,
   "id": "33b78fa7-6ae0-4384-9d16-2e89e1a50240",
   "metadata": {},
   "outputs": [
    {
     "name": "stdout",
     "output_type": "stream",
     "text": [
      "Resultant Matrix after addition:\n",
      "[10, 10, 10]\n",
      "[10, 10, 10]\n",
      "[10, 10, 10]\n"
     ]
    }
   ],
   "source": [
    "matrix1 = [\n",
    "    [1, 2, 3],\n",
    "    [4, 5, 6],\n",
    "    [7, 8, 9]\n",
    "]\n",
    "\n",
    "matrix2 = [\n",
    "    [9, 8, 7],\n",
    "    [6, 5, 4],\n",
    "    [3, 2, 1]\n",
    "]\n",
    "\n",
    "result = []\n",
    "for i in range(len(matrix1)):  \n",
    "    row = [] \n",
    "    for j in range(len(matrix1[0])):  \n",
    "        row.append(matrix1[i][j] + matrix2[i][j])  \n",
    "    result.append(row) \n",
    "print(\"Resultant Matrix after addition:\")\n",
    "for row in result:\n",
    "    print(row)\n"
   ]
  },
  {
   "cell_type": "markdown",
   "id": "ef72a177-5b31-4d7c-9dba-6ffb78b314ae",
   "metadata": {},
   "source": [
    "10. Write a program to multiply two matrices"
   ]
  },
  {
   "cell_type": "code",
   "execution_count": 57,
   "id": "7cb0281d-4bdb-4bb0-84bc-6644d74c081e",
   "metadata": {},
   "outputs": [
    {
     "name": "stdout",
     "output_type": "stream",
     "text": [
      "Resultant Matrix after multiplication:\n",
      "[30, 24, 18]\n",
      "[84, 69, 54]\n",
      "[138, 114, 90]\n"
     ]
    }
   ],
   "source": [
    "matrix1 = [\n",
    "    [1, 2, 3],\n",
    "    [4, 5, 6],\n",
    "    [7, 8, 9]\n",
    "]\n",
    "\n",
    "matrix2 = [\n",
    "    [9, 8, 7],\n",
    "    [6, 5, 4],\n",
    "    [3, 2, 1]\n",
    "]\n",
    "\n",
    "result = [[0] * len(matrix2[0]) for _ in range(len(matrix1))]\n",
    "\n",
    "for i in range(len(matrix1)):\n",
    "    for j in range(len(matrix2[0])): \n",
    "        for k in range(len(matrix2)):\n",
    "            result[i][j] += matrix1[i][k] * matrix2[k][j]\n",
    "\n",
    "print(\"Resultant Matrix after multiplication:\")\n",
    "for row in result:\n",
    "    print(row)\n"
   ]
  },
  {
   "cell_type": "markdown",
   "id": "0ab50832-4afc-459d-b126-b017e47ec0c1",
   "metadata": {},
   "source": [
    "# Section D\n",
    "\n",
    "#### Strings"
   ]
  },
  {
   "cell_type": "markdown",
   "id": "16f1ba71-79af-459d-ac1c-fb4bba9164d1",
   "metadata": {},
   "source": [
    "1. Write a program that accepts a string from user. Your program should count and display number of\n",
    "vowels in that string."
   ]
  },
  {
   "cell_type": "code",
   "execution_count": 1,
   "id": "3106b138-3352-4dd4-9d07-031206abf286",
   "metadata": {},
   "outputs": [
    {
     "name": "stdin",
     "output_type": "stream",
     "text": [
      "Enter a word:  tayyab\n"
     ]
    },
    {
     "name": "stdout",
     "output_type": "stream",
     "text": [
      "The number of vowels in the string is: 2\n"
     ]
    }
   ],
   "source": [
    "inp = input(\"Enter a word: \")\n",
    "vowels = \"aeiouAEIOU\"\n",
    "c = 0\n",
    "for char in inp:\n",
    "    if char in vowels:\n",
    "        c += 1\n",
    "print(f\"The number of vowels in the string is: {c}\")\n"
   ]
  },
  {
   "cell_type": "markdown",
   "id": "80f1ad6d-f3aa-4074-86db-9281acf4a491",
   "metadata": {},
   "source": [
    "2. Write a program that reads a string from keyboard and display:\n",
    "* The number of uppercase letters in the string\n",
    "* The number of lowercase letters in the string\n",
    "* The number of digits in the string\n",
    "* The number of whitespace characters in the string"
   ]
  },
  {
   "cell_type": "code",
   "execution_count": 11,
   "id": "1c12ccb1-5834-4ba5-8379-687149966947",
   "metadata": {},
   "outputs": [
    {
     "name": "stdin",
     "output_type": "stream",
     "text": [
      "Enter a word:  t Y 1\n"
     ]
    },
    {
     "name": "stdout",
     "output_type": "stream",
     "text": [
      "\n",
      "Number of total characters: 5\n",
      "Number of uppercase letters: 1\n",
      "Number of lowercase letters: 1\n",
      "Number of digits: 1\n",
      "Number of whitespace characters: 2\n",
      "\n"
     ]
    }
   ],
   "source": [
    "inp = input(\"Enter a word: \")\n",
    "\n",
    "uppercase = 0\n",
    "lowercase = 0\n",
    "digit = 0\n",
    "space = 0\n",
    "\n",
    "for char in inp:\n",
    "    if char.isupper():\n",
    "        uppercase += 1\n",
    "    elif char.islower():\n",
    "        lowercase += 1\n",
    "    elif char.isdigit():\n",
    "        digit += 1\n",
    "    elif char.isspace():\n",
    "        space += 1\n",
    "total = len(inp)\n",
    "print(f\"\"\"\n",
    "Number of total characters: {total}\n",
    "Number of uppercase letters: {uppercase}\n",
    "Number of lowercase letters: {lowercase}\n",
    "Number of digits: {digit}\n",
    "Number of whitespace characters: {space}\n",
    "\"\"\")"
   ]
  },
  {
   "cell_type": "markdown",
   "id": "7d4a8574-4356-449e-ba07-2e7e57fce932",
   "metadata": {},
   "source": [
    "3. Write a Python program that accepts a string from user. Your program should create and display a\n",
    "new string where the first and last characters have been exchanged.\n",
    "\n",
    "For example if the user enters the string 'HELLO' then new string would be 'OELLH'"
   ]
  },
  {
   "cell_type": "code",
   "execution_count": 43,
   "id": "35623274-d91d-4cd5-a447-208aa80d3ba7",
   "metadata": {},
   "outputs": [
    {
     "name": "stdin",
     "output_type": "stream",
     "text": [
      "Enter a word:  hellow\n"
     ]
    },
    {
     "name": "stdout",
     "output_type": "stream",
     "text": [
      "The new string is: welloh\n"
     ]
    }
   ],
   "source": [
    "user = input(\"Enter a word: \")\n",
    "if len(user) > 1:\n",
    "    new = user[-1] + user[1:-1] + user[0]\n",
    "else:\n",
    "    new = user\n",
    "\n",
    "print(\"The new string is:\", new)"
   ]
  },
  {
   "cell_type": "markdown",
   "id": "1556e3e3-fb01-40e4-835d-3a7ea1168fd3",
   "metadata": {},
   "source": [
    "4. Write a Python program that accepts a string from user. Your program should create a new string in\n",
    "reverse of first string and display it.\n",
    "\n",
    "For example if the user enters the string 'EXAM' then new string would be 'MAXE'"
   ]
  },
  {
   "cell_type": "code",
   "execution_count": 17,
   "id": "42f698ed-bbd1-4817-9d46-bf380246d977",
   "metadata": {},
   "outputs": [
    {
     "name": "stdin",
     "output_type": "stream",
     "text": [
      "Enter a word:  tayyab\n"
     ]
    },
    {
     "name": "stdout",
     "output_type": "stream",
     "text": [
      "The reversed string is: bayyat\n"
     ]
    }
   ],
   "source": [
    "inp = input(\"Enter a word: \")\n",
    "rev = inp[::-1]\n",
    "print(\"The reversed string is:\", rev)"
   ]
  },
  {
   "cell_type": "markdown",
   "id": "f4d8691e-f890-4a89-af0d-14ee720c87bd",
   "metadata": {},
   "source": [
    "5. Write a Python program that accepts a string from user. Your program should create a new string by\n",
    "shifting one position to left.\n",
    "\n",
    "For example if the user enters the string 'examination 2021' then new string would be 'xamination\n",
    "2021e'"
   ]
  },
  {
   "cell_type": "code",
   "execution_count": 19,
   "id": "dbec9ecb-8acb-45c9-ace3-a11d0fa12bf5",
   "metadata": {},
   "outputs": [
    {
     "name": "stdin",
     "output_type": "stream",
     "text": [
      "Enter a word:  nahi btaou ga\n"
     ]
    },
    {
     "name": "stdout",
     "output_type": "stream",
     "text": [
      "The shifted string is: ahi btaou gan\n"
     ]
    }
   ],
   "source": [
    "inp = input(\"Enter a word: \")\n",
    "shifted = inp[1:] + inp[0]\n",
    "print(\"The shifted string is:\", shifted)"
   ]
  },
  {
   "cell_type": "markdown",
   "id": "09f6f50f-b02b-40d1-9a74-4d4f7f822a48",
   "metadata": {},
   "source": [
    "6. Write a program that asks the user to input his name and print its initials. Assuming that the user\n",
    "always types first name, middle name and last name and does not include any unnecessary spaces.\n",
    "\n",
    "For example, if the user enters Ajay Kumar Garg the program should display A. K. G.\n",
    "Note:Don't use split() method"
   ]
  },
  {
   "cell_type": "code",
   "execution_count": 27,
   "id": "84a6af23-39e7-4135-babe-4d122897e9e7",
   "metadata": {},
   "outputs": [
    {
     "name": "stdin",
     "output_type": "stream",
     "text": [
      "Enter your name:  Muhammad Tayyab Muhammad Yaqoob\n"
     ]
    },
    {
     "name": "stdout",
     "output_type": "stream",
     "text": [
      "M. T. M. Y.\n"
     ]
    }
   ],
   "source": [
    "name = input(\"Enter your name: \")\n",
    "init = \"\"\n",
    "i = 0\n",
    "while i < len(name):\n",
    "    if name[i] != ' ':\n",
    "        init += name[i] + \". \"\n",
    "        while i < len(name) and name[i] != ' ':\n",
    "            i += 1\n",
    "    else:\n",
    "        i += 1\n",
    "\n",
    "print(init.strip())"
   ]
  },
  {
   "cell_type": "markdown",
   "id": "91ac4548-9e79-4a32-a9d0-799230a6f193",
   "metadata": {},
   "source": [
    "7. A palindrome is a string that reads the same backward as forward. For example, the words dad,\n",
    "madam and radar are all palindromes. Write a programs that determines whether the string is a\n",
    "palindrome.\n",
    "\n",
    "Note: do not use reverse() method"
   ]
  },
  {
   "cell_type": "code",
   "execution_count": 37,
   "id": "157b1845-422f-43ef-a301-5d35c9e4fad9",
   "metadata": {},
   "outputs": [
    {
     "name": "stdin",
     "output_type": "stream",
     "text": [
      "Enter a word:  tayyab\n"
     ]
    },
    {
     "name": "stdout",
     "output_type": "stream",
     "text": [
      "The string is not a palindrome.\n"
     ]
    }
   ],
   "source": [
    "inp = input(\"Enter a word: \")\n",
    "is_palindrome = True\n",
    "i = 0\n",
    "j = (len(inp) - 1)\n",
    "while i < j:\n",
    "    if inp[i] != inp[j]:\n",
    "        is_palindrome = False\n",
    "        break\n",
    "    i += 1\n",
    "    j -= 1\n",
    "\n",
    "if is_palindrome:\n",
    "    print(\"The string is a palindrome.\")\n",
    "else:\n",
    "    print(\"The string is not a palindrome.\")"
   ]
  },
  {
   "cell_type": "markdown",
   "id": "f2131f1d-c83a-448e-af35-c5d2714c8a13",
   "metadata": {},
   "source": [
    "8. Write a program that display following output:\n",
    "\n",
    "- SHIFT\n",
    "- HIFTS\n",
    "- IFTSH\n",
    "- FTSHI\n",
    "- TSHIF\n",
    "- SHIFT"
   ]
  },
  {
   "cell_type": "code",
   "execution_count": 39,
   "id": "ac58badc-b321-4f18-ad7a-7dc58b7a84ba",
   "metadata": {},
   "outputs": [
    {
     "name": "stdout",
     "output_type": "stream",
     "text": [
      "SHIFT\n",
      "HIFTS\n",
      "IFTSH\n",
      "FTSHI\n",
      "TSHIF\n"
     ]
    }
   ],
   "source": [
    "w = \"SHIFT\"\n",
    "for i in range(len(w)):\n",
    "    print(w[i:] + w[:i])"
   ]
  },
  {
   "cell_type": "markdown",
   "id": "8e0c3a4c-cc49-46b7-a1f4-99385d31c56e",
   "metadata": {},
   "source": [
    "9. Write a program in python that accepts a string to setup a passwords. Your entered password must\n",
    "meet the following requirements:\n",
    "\n",
    "- The password must be at least eight characters long.\n",
    "- It must contain at least one uppercase letter.\n",
    "- It must contain at least one lowercase letter.\n",
    "- It must contain at least one numeric digit.\n",
    "- Your program should should perform this validation."
   ]
  },
  {
   "cell_type": "code",
   "execution_count": 41,
   "id": "3b80d563-404f-484d-8dde-8b60b973bd80",
   "metadata": {},
   "outputs": [
    {
     "name": "stdin",
     "output_type": "stream",
     "text": [
      "Enter your password:  Tayyab1@\n"
     ]
    },
    {
     "name": "stdout",
     "output_type": "stream",
     "text": [
      "Password is valid.\n"
     ]
    }
   ],
   "source": [
    "import re\n",
    "def validate_password(password):\n",
    "    if len(password) < 8:\n",
    "        return \"Password must be at least 8 characters long.\"\n",
    "    \n",
    "    if not re.search(r'[A-Z]', password):\n",
    "        return \"Password must contain at least one uppercase letter.\"\n",
    "    \n",
    "    if not re.search(r'[a-z]', password):\n",
    "        return \"Password must contain at least one lowercase letter.\"\n",
    "    \n",
    "    if not re.search(r'[0-9]', password):\n",
    "        return \"Password must contain at least one numeric digit.\"\n",
    "    \n",
    "    return \"Password is valid.\"\n",
    "\n",
    "password = input(\"Enter your password: \")\n",
    "\n",
    "validation_result = validate_password(password)\n",
    "\n",
    "print(validation_result)\n"
   ]
  }
 ],
 "metadata": {
  "kernelspec": {
   "display_name": "Python 3 (ipykernel)",
   "language": "python",
   "name": "python3"
  },
  "language_info": {
   "codemirror_mode": {
    "name": "ipython",
    "version": 3
   },
   "file_extension": ".py",
   "mimetype": "text/x-python",
   "name": "python",
   "nbconvert_exporter": "python",
   "pygments_lexer": "ipython3",
   "version": "3.12.7"
  }
 },
 "nbformat": 4,
 "nbformat_minor": 5
}
